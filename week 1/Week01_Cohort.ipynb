{
 "cells": [
  {
   "cell_type": "markdown",
   "metadata": {
    "colab_type": "text",
    "deletable": false,
    "editable": false,
    "id": "Y66rHK3-FB9T",
    "nbgrader": {
     "grade": false,
     "locked": true,
     "solution": false
    }
   },
   "source": [
    "# Week 1 Problem Set\n",
    "\n",
    "## Cohort Problems\n",
    "\n",
    "**CS0.** Implement factorial problem using iteration. The function should takes in an Integer input and returns and Integer output which is the factorial of the input. Recall that:\n",
    "\n",
    "$n! = n \\times (n-1) \\times (n-2) \\times \\ldots \\times 2 \\times 1$\n",
    "\n",
    "You should consider the case when $n$ is zero and one as well. "
   ]
  },
  {
   "cell_type": "code",
   "execution_count": 8,
   "metadata": {
    "collapsed": true
   },
   "outputs": [],
   "source": [
    "# iteration\n",
    "def factorial_iteration(n):\n",
    "    result = None\n",
    "    if n == 0:\n",
    "        return 1\n",
    "    else:\n",
    "        return n * factorial_iteration(n-1)"
   ]
  },
  {
   "cell_type": "code",
   "execution_count": 9,
   "metadata": {
    "collapsed": true,
    "deletable": false,
    "editable": false,
    "nbgrader": {
     "grade": true,
     "grade_id": "cs01",
     "locked": true,
     "points": "1",
     "solution": false
    }
   },
   "outputs": [],
   "source": [
    "assert factorial_iteration(0) == 1\n",
    "assert factorial_iteration(1) == 1\n",
    "assert factorial_iteration(5) == 120\n",
    "assert factorial_iteration(7) == 5040\n",
    "assert factorial_iteration(11) == 39916800"
   ]
  },
  {
   "cell_type": "code",
   "execution_count": 10,
   "metadata": {
    "collapsed": true,
    "deletable": false,
    "editable": false,
    "nbgrader": {
     "grade": true,
     "grade_id": "cs02",
     "locked": true,
     "points": "1",
     "solution": false
    }
   },
   "outputs": [],
   "source": [
    "###\n",
    "### AUTOGRADER TEST - DO NOT REMOVE\n",
    "###\n"
   ]
  },
  {
   "cell_type": "markdown",
   "metadata": {
    "deletable": false,
    "editable": false,
    "nbgrader": {
     "grade": false,
     "locked": true,
     "solution": false
    }
   },
   "source": [
    "\n",
    "**CS1.** Create a function that implements **Bubble Sort version 1** (from your Notes) to sort an array of integers. The function should sort the input array in place. Refer to [Bubble Sort and Insertion Sort](https://github.com/Data-Driven-World/d2w_notes/blob/master/BubbleSort_InsertionSort.ipynb) for the pseudocode. "
   ]
  },
  {
   "cell_type": "code",
   "execution_count": 3,
   "metadata": {
    "colab": {
     "base_uri": "https://localhost:8080/",
     "height": 34
    },
    "colab_type": "code",
    "collapsed": true,
    "executionInfo": {
     "elapsed": 794,
     "status": "ok",
     "timestamp": 1572597283734,
     "user": {
      "displayName": "Oka Kurniawan",
      "photoUrl": "https://lh3.googleusercontent.com/a-/AAuE7mAnRP7A15yGfrraUO-0BiNVbNmYjI2f9jaZikjr=s64",
      "userId": "05233922875329103764"
     },
     "user_tz": -480
    },
    "id": "wopWPARtFA_Y",
    "outputId": "b3361c5f-3047-48f5-8c24-2f15e39c0f8b"
   },
   "outputs": [],
   "source": [
    "def bubble_sort(array):\n",
    "    n = len(array)\n",
    "    for i in range(n - 1):\n",
    "        for i in range(n - 1):\n",
    "            first_number = array[i]\n",
    "            second_number = array[i + 1]\n",
    "            if first_number > second_number:\n",
    "                array[i], array[i + 1] = array[i + 1], array[i]\n",
    "    return None"
   ]
  },
  {
   "cell_type": "code",
   "execution_count": 4,
   "metadata": {
    "deletable": false,
    "editable": false,
    "nbgrader": {
     "grade": true,
     "grade_id": "cs11",
     "locked": true,
     "points": "1",
     "solution": false
    }
   },
   "outputs": [
    {
     "name": "stdout",
     "output_type": "stream",
     "text": [
      "[-39, -5, 0, 1, 3, 4, 6, 7, 8, 8, 10, 47]\n"
     ]
    }
   ],
   "source": [
    "array = [10,3,8,47,1,0,-39,8,4,7,6,-5]\n",
    "bubble_sort(array)\n",
    "print(array)\n",
    "assert array == [-39, -5, 0, 1, 3, 4, 6, 7, 8, 8, 10, 47]"
   ]
  },
  {
   "cell_type": "code",
   "execution_count": 5,
   "metadata": {
    "collapsed": true,
    "deletable": false,
    "editable": false,
    "nbgrader": {
     "grade": true,
     "grade_id": "cs12",
     "locked": true,
     "points": "1",
     "solution": false
    }
   },
   "outputs": [],
   "source": [
    "###\n",
    "### AUTOGRADER TEST - DO NOT REMOVE\n",
    "###\n"
   ]
  },
  {
   "cell_type": "markdown",
   "metadata": {
    "colab_type": "text",
    "deletable": false,
    "editable": false,
    "id": "5vP5FMfnGmmZ",
    "nbgrader": {
     "grade": false,
     "locked": true,
     "solution": false
    }
   },
   "source": [
    "**CS2.** Modify CS1, so that it returns  the number of comparisons that are performed.\n",
    "\n",
    "Hint: To count the number of comparisons, you can create an integer variable which you *increment* just before the `if` statement. "
   ]
  },
  {
   "cell_type": "code",
   "execution_count": 7,
   "metadata": {
    "colab": {
     "base_uri": "https://localhost:8080/",
     "height": 34
    },
    "colab_type": "code",
    "collapsed": true,
    "executionInfo": {
     "elapsed": 987,
     "status": "ok",
     "timestamp": 1572597371276,
     "user": {
      "displayName": "Oka Kurniawan",
      "photoUrl": "https://lh3.googleusercontent.com/a-/AAuE7mAnRP7A15yGfrraUO-0BiNVbNmYjI2f9jaZikjr=s64",
      "userId": "05233922875329103764"
     },
     "user_tz": -480
    },
    "id": "C9BbxXOwGklR",
    "outputId": "02d348df-d119-4684-dab1-ed80a4116b14"
   },
   "outputs": [],
   "source": [
    "def bubble_sort(array):\n",
    "    count = 0\n",
    "    n = len(array)\n",
    "    for i in range(n - 1):\n",
    "        for i in range(n - 1):\n",
    "            count = count + 1\n",
    "            first_number = array[i]\n",
    "            second_number = array[i + 1]\n",
    "            if first_number > second_number:\n",
    "                array[i], array[i + 1] = array[i + 1], array[i]\n",
    "    return count"
   ]
  },
  {
   "cell_type": "code",
   "execution_count": 8,
   "metadata": {
    "deletable": false,
    "editable": false,
    "nbgrader": {
     "grade": true,
     "grade_id": "cs21",
     "locked": true,
     "points": "1",
     "solution": false
    }
   },
   "outputs": [
    {
     "name": "stdout",
     "output_type": "stream",
     "text": [
      "[-39, -5, 0, 1, 3, 4, 6, 7, 8, 8, 10, 47] 121\n"
     ]
    }
   ],
   "source": [
    "array = [10,3,8,47,1,0,-39,8,4,7,6,-5]\n",
    "count = bubble_sort(array)\n",
    "print(array, count)\n",
    "assert array == [-39, -5, 0, 1, 3, 4, 6, 7, 8, 8, 10, 47]\n",
    "assert count == 121"
   ]
  },
  {
   "cell_type": "code",
   "execution_count": 9,
   "metadata": {
    "collapsed": true,
    "deletable": false,
    "editable": false,
    "nbgrader": {
     "grade": true,
     "grade_id": "cs22",
     "locked": true,
     "points": "1",
     "solution": false
    }
   },
   "outputs": [],
   "source": [
    "###\n",
    "### AUTOGRADER TEST - DO NOT REMOVE\n",
    "###\n"
   ]
  },
  {
   "cell_type": "markdown",
   "metadata": {
    "colab_type": "text",
    "deletable": false,
    "editable": false,
    "id": "HeIsZoTTG52T",
    "nbgrader": {
     "grade": false,
     "locked": true,
     "solution": false
    }
   },
   "source": [
    "**CS3.** Create a function that implements **Insertion Sort** to sort an array of floats. The function should sort the input array in place. Refer to [Bubble Sort and Insertion Sort](https://github.com/Data-Driven-World/d2w_notes/blob/master/BubbleSort_InsertionSort.ipynb) for the pseudocode."
   ]
  },
  {
   "cell_type": "code",
   "execution_count": 6,
   "metadata": {
    "colab": {
     "base_uri": "https://localhost:8080/",
     "height": 34
    },
    "colab_type": "code",
    "collapsed": true,
    "executionInfo": {
     "elapsed": 1003,
     "status": "ok",
     "timestamp": 1572597569741,
     "user": {
      "displayName": "Oka Kurniawan",
      "photoUrl": "https://lh3.googleusercontent.com/a-/AAuE7mAnRP7A15yGfrraUO-0BiNVbNmYjI2f9jaZikjr=s64",
      "userId": "05233922875329103764"
     },
     "user_tz": -480
    },
    "id": "cj8Uq4WZHHCB",
    "outputId": "4c2de48b-eae8-4244-f950-f62c3ed50268"
   },
   "outputs": [],
   "source": [
    "def insertion_sort(array):\n",
    "    n = len(array)\n",
    "    for i in range(n - 1):\n",
    "        j = i + 1\n",
    "        while j > 0 and (array[j] < array[j -1]):\n",
    "            array[j - 1], array[j] = array[j], array[j - 1]\n",
    "            j = j - 1\n",
    "    pass"
   ]
  },
  {
   "cell_type": "code",
   "execution_count": 7,
   "metadata": {
    "deletable": false,
    "editable": false,
    "nbgrader": {
     "grade": true,
     "grade_id": "cs31",
     "locked": true,
     "points": "1",
     "solution": false
    }
   },
   "outputs": [
    {
     "name": "stdout",
     "output_type": "stream",
     "text": [
      "[-39.8, -6.5, -5.0, 0, 1.0, 3.8, 4.7, 7.6, 8.4, 8.4, 10.3, 47.1]\n"
     ]
    }
   ],
   "source": [
    "array = [10.3,3.8,8.4,47.1,1.0,0,-39.8,8.4,4.7,7.6,-6.5,-5.0]\n",
    "insertion_sort(array)\n",
    "print(array)\n",
    "assert array == [-39.8, -6.5, -5.0, 0.0, 1.0, 3.8, 4.7, 7.6, 8.4, 8.4, 10.3, 47.1]"
   ]
  },
  {
   "cell_type": "code",
   "execution_count": 8,
   "metadata": {
    "collapsed": true,
    "deletable": false,
    "editable": false,
    "nbgrader": {
     "grade": true,
     "grade_id": "cs32",
     "locked": true,
     "points": "1",
     "solution": false
    }
   },
   "outputs": [],
   "source": [
    "###\n",
    "### AUTOGRADER TEST - DO NOT REMOVE\n",
    "###\n"
   ]
  },
  {
   "cell_type": "markdown",
   "metadata": {
    "colab_type": "text",
    "deletable": false,
    "editable": false,
    "id": "1j3sevN3LJap",
    "nbgrader": {
     "grade": false,
     "locked": true,
     "solution": false
    }
   },
   "source": [
    "**CS4.** Write a function `gen_random_int` that generates a list of integers from `0` to `n - 1` with its sequence randomly shuffled. The function should take in an integer `n`, denoting the number of integers to be generated. \n",
    "\n",
    "Hint: \n",
    "- You can use `random.shuffle(mylist)`  to shuffle the elements of a list called `mylist`.\n",
    "- Refer to [Python's Random module](https://docs.python.org/3.7/library/random.html) for more details on how to use `shuffle()`."
   ]
  },
  {
   "cell_type": "code",
   "execution_count": 1,
   "metadata": {
    "colab": {
     "base_uri": "https://localhost:8080/",
     "height": 34
    },
    "colab_type": "code",
    "collapsed": true,
    "executionInfo": {
     "elapsed": 1252,
     "status": "ok",
     "timestamp": 1573001164584,
     "user": {
      "displayName": "Oka Kurniawan",
      "photoUrl": "https://lh3.googleusercontent.com/a-/AAuE7mAnRP7A15yGfrraUO-0BiNVbNmYjI2f9jaZikjr=s64",
      "userId": "05233922875329103764"
     },
     "user_tz": -480
    },
    "id": "bIC71EosLKsB",
    "outputId": "1416fa24-8813-4ba2-8e9b-2814a701c1c1"
   },
   "outputs": [],
   "source": [
    "import random\n",
    "\n",
    "def gen_random_int(number, seed):\n",
    "    result = list()\n",
    "    for i in range(number):\n",
    "        result.append(i)\n",
    "    random.shuffle(result, random.seed(seed))\n",
    "    return result"
   ]
  },
  {
   "cell_type": "code",
   "execution_count": 2,
   "metadata": {
    "deletable": false,
    "editable": false,
    "nbgrader": {
     "grade": true,
     "grade_id": "cs41",
     "locked": true,
     "points": "1",
     "solution": false
    }
   },
   "outputs": [
    {
     "name": "stdout",
     "output_type": "stream",
     "text": [
      "[4, 0, 5, 9, 3, 1, 6, 8, 7, 2]\n"
     ]
    }
   ],
   "source": [
    "output = gen_random_int(10, 100)\n",
    "print(output)\n",
    "assert output == [4, 0, 5, 9, 3, 1, 6, 8, 7, 2]"
   ]
  },
  {
   "cell_type": "code",
   "execution_count": 3,
   "metadata": {
    "collapsed": true,
    "deletable": false,
    "editable": false,
    "nbgrader": {
     "grade": true,
     "grade_id": "cs42",
     "locked": true,
     "points": "1",
     "solution": false
    }
   },
   "outputs": [],
   "source": [
    "###\n",
    "### AUTOGRADER TEST - DO NOT REMOVE\n",
    "###\n"
   ]
  },
  {
   "cell_type": "code",
   "execution_count": 1,
   "metadata": {},
   "outputs": [
    {
     "name": "stdout",
     "output_type": "stream",
     "text": [
      "1,000,000\n"
     ]
    }
   ],
   "source": [
    "def format_number(num):\n",
    "    return \"{:,}\".format(num)\n",
    "    \n",
    "print(format_number(1000000))"
   ]
  },
  {
   "cell_type": "code",
   "execution_count": null,
   "metadata": {
    "collapsed": true
   },
   "outputs": [],
   "source": [
    "def largest_range(a):\n",
    "    "
   ]
  }
 ],
 "metadata": {
  "colab": {
   "collapsed_sections": [],
   "name": "Week01_ProblemSet.ipynb",
   "provenance": []
  },
  "kernelspec": {
   "display_name": "Python 3 [3.7]",
   "language": "python",
   "name": "python3"
  },
  "language_info": {
   "codemirror_mode": {
    "name": "ipython",
    "version": 3
   },
   "file_extension": ".py",
   "mimetype": "text/x-python",
   "name": "python",
   "nbconvert_exporter": "python",
   "pygments_lexer": "ipython3",
   "version": "3.7.5"
  }
 },
 "nbformat": 4,
 "nbformat_minor": 4
}
