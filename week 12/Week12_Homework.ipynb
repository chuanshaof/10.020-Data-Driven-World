{
 "cells": [
  {
   "cell_type": "markdown",
   "metadata": {
    "colab_type": "text",
    "deletable": false,
    "editable": false,
    "id": "8aIR0Iu8Bp-M",
    "nbgrader": {
     "grade": false,
     "locked": true,
     "solution": false
    }
   },
   "source": [
    "# Week 12 Problem Set\n",
    "\n",
    "## Homework"
   ]
  },
  {
   "cell_type": "markdown",
   "metadata": {
    "colab_type": "text",
    "deletable": false,
    "editable": false,
    "id": "CVpRsTXGBaXa",
    "nbgrader": {
     "grade": false,
     "locked": true,
     "solution": false
    }
   },
   "source": [
    "**HW1.** *Comments:* Write a state machine whose inputs are the characters of a string. The string contains the code for a computer program. The output of the state machine are either:\n",
    "- the input character if it is part of a comment, or\n",
    "- `None`, otherwise.\n",
    "\n",
    "Comment starts with a `#` character and continue to the end of the current line. If you want to create a string that contains a new line character, you can use `\\n`.\n",
    "\n",
    "For example,\n",
    "```\n",
    "inpstr = \"def func(x): # comment\\n    return 1\"\n",
    "m = CommentsSM()\n",
    "print(m.transduce(inpstr))\n",
    "```\n",
    "\n",
    "The expected output is:\n",
    "```\n",
    "[None, None, None, None, None, None, None, None, None, None, None, None, None, \"#\", \" \", \"c\", \"o\", \"m\", \"m\", \"e\", \"n\", \"t\", None, None, None, None, None, None, None, None, None, None, None, None, None]\n",
    "```\n",
    "\n",
    "You should start by drawing a state transition diagram indicating the states and what inputs cause transition to which other states. Use the test case above to determine if your state transition diagram is correct. You should begin writing your program only when you are confident that your diagram is correct. "
   ]
  },
  {
   "cell_type": "code",
   "execution_count": 72,
   "metadata": {
    "collapsed": true
   },
   "outputs": [],
   "source": [
    "# Copy over the implementation of StateMachine from Cohort\n",
    "from abc import ABC, abstractmethod\n",
    "\n",
    "class StateMachine(ABC):\n",
    "    def start(self):\n",
    "        self.state = self.start_state\n",
    "        pass\n",
    "\n",
    "    def step(self, inp):\n",
    "        self.state, output = self.get_next_values(self.state, inp)\n",
    "        return output\n",
    "        pass\n",
    "        \n",
    "    def transduce(self, inp_list):\n",
    "        self.start()\n",
    "        out_list = []\n",
    "        for inp in inp_list:\n",
    "            out_list.append(self.step(inp))\n",
    "            if self.is_done():\n",
    "                break\n",
    "        return out_list\n",
    "        pass\n",
    "\n",
    "    @abstractmethod\n",
    "    def get_next_values(self, state, inp):\n",
    "        pass\n",
    "\n",
    "    def done(self, state):\n",
    "        return False\n",
    "\n",
    "    def is_done(self):\n",
    "        return self.done(self.state)"
   ]
  },
  {
   "cell_type": "code",
   "execution_count": 75,
   "metadata": {
    "colab": [],
    "colab_type": "code",
    "id": "k4sWVMNYB_b1"
   },
   "outputs": [],
   "source": [
    "class CommentsSM(StateMachine):\n",
    "    \n",
    "    def __init__(self):\n",
    "        self.start_state = \"\"\n",
    "        pass\n",
    "\n",
    "    def get_next_values(self, state, inp):\n",
    "        if state == \"#\" or inp == \"#\":\n",
    "            if inp == \"\\n\":\n",
    "                output = None\n",
    "                next_state = \"\"\n",
    "            else:\n",
    "                output = inp\n",
    "                next_state = \"#\"    \n",
    "        else:\n",
    "            output = None\n",
    "            next_state = \"\"        \n",
    "        return next_state, output"
   ]
  },
  {
   "cell_type": "code",
   "execution_count": 76,
   "metadata": {
    "colab": [],
    "colab_type": "code",
    "deletable": false,
    "editable": false,
    "id": "RvcBzb9dEDSQ",
    "nbgrader": {
     "grade": true,
     "grade_id": "hw11",
     "locked": true,
     "points": "1",
     "solution": false
    }
   },
   "outputs": [],
   "source": [
    "inpstr = \"def func(x): # comment\\n    return 1\"\n",
    "m = CommentsSM()\n",
    "out = m.transduce(inpstr)\n",
    "assert out == [None, None, None, None, None, None, None, None, None, None, None, None, None, \"#\", \" \", \"c\", \"o\", \"m\", \"m\", \"e\", \"n\", \"t\", None, None, None, None, None, None, None, None, None, None, None, None, None]"
   ]
  },
  {
   "cell_type": "code",
   "execution_count": 59,
   "metadata": {
    "collapsed": true,
    "deletable": false,
    "editable": false,
    "nbgrader": {
     "grade": true,
     "grade_id": "hw12",
     "locked": true,
     "points": "1",
     "solution": false
    }
   },
   "outputs": [],
   "source": [
    "###\n",
    "### AUTOGRADER TEST - DO NOT REMOVE\n",
    "###\n"
   ]
  },
  {
   "cell_type": "markdown",
   "metadata": {
    "colab_type": "text",
    "deletable": false,
    "editable": false,
    "id": "lYlKhFvVEdx0",
    "nbgrader": {
     "grade": false,
     "locked": true,
     "solution": false
    }
   },
   "source": [
    "**HW2.** *First Word:* Write a state machine whose inputs are the characters of a string and which outputs either:\n",
    "- the input character if it is part of the first word on a line, or\n",
    "- `None`, otherwise\n",
    "\n",
    "For the purposes here, a word is any sequence of consecutive characters that does not contain spaces or end-of-line characters. In this problem, comments have no special status. This means that if the line begins with `# `, then the first word is `#`. \n",
    "\n",
    "For example, \n",
    "```\n",
    "inpstr = \"def func(x): # comment\\n    return 1\"\n",
    "m = FirstWordSM()\n",
    "print(m.transduce( inpstr))\n",
    "```\n",
    "\n",
    "The expected output is:\n",
    "```\n",
    "[\"d\", \"e\", \"f\", None, None, None, None, None, None, None, None, None, None, None, None, None, None, None, None, None, None, None, None, None, None, None, None, None, \"r\", \"e\", \"t\", \"u\", \"r\", \"n\", None, None]\n",
    "```"
   ]
  },
  {
   "cell_type": "code",
   "execution_count": 60,
   "metadata": {
    "colab": [],
    "colab_type": "code",
    "collapsed": true,
    "id": "wbcNeKi1FcEy"
   },
   "outputs": [],
   "source": [
    "class FirstWordSM(StateMachine):\n",
    "  \n",
    "    def __init__(self):\n",
    "        self.start_state = \"\\n\"\n",
    "        pass\n",
    "  \n",
    "    def get_next_values(self, state, inp):\n",
    "        if state == \"\\n\" or inp == \"\\n\":\n",
    "            if inp == \" \" or inp == \"\\n\":\n",
    "                output = None\n",
    "                next_state = \"\\n\"\n",
    "            elif inp != \" \":\n",
    "                output = inp\n",
    "                next_state = \"w\"\n",
    "        elif state == \"w\":\n",
    "            if inp == \" \":\n",
    "                output = None\n",
    "                next_state = \"\"\n",
    "            else:\n",
    "                output = inp\n",
    "                next_state = \"w\"\n",
    "        else:\n",
    "            output = None\n",
    "            next_state = \"\"\n",
    "        return next_state, output"
   ]
  },
  {
   "cell_type": "code",
   "execution_count": 61,
   "metadata": {
    "colab": [],
    "colab_type": "code",
    "deletable": false,
    "editable": false,
    "id": "UUN3kvJ5GO_g",
    "nbgrader": {
     "grade": true,
     "grade_id": "hw21",
     "locked": true,
     "points": "1",
     "solution": false
    }
   },
   "outputs": [],
   "source": [
    "inpstr = \"def func(x): # comment\\n    return 1\"\n",
    "m = FirstWordSM()\n",
    "out = m.transduce(inpstr)\n",
    "assert out == [\"d\", \"e\", \"f\", None, None, None, None, None, None, None, None, None, None, None, None, None, None, None, None, None, None, None, None, None, None, None, None, \"r\", \"e\", \"t\", \"u\", \"r\", \"n\", None, None]\n"
   ]
  },
  {
   "cell_type": "code",
   "execution_count": 62,
   "metadata": {
    "collapsed": true,
    "deletable": false,
    "editable": false,
    "nbgrader": {
     "grade": true,
     "grade_id": "hw22",
     "locked": true,
     "points": "1",
     "solution": false
    }
   },
   "outputs": [],
   "source": [
    "###\n",
    "### AUTOGRADER TEST - DO NOT REMOVE\n",
    "###\n"
   ]
  },
  {
   "cell_type": "markdown",
   "metadata": {
    "colab_type": "text",
    "deletable": false,
    "editable": false,
    "id": "NnDht41iHHTy",
    "nbgrader": {
     "grade": false,
     "locked": true,
     "solution": false
    }
   },
   "source": [
    "**HW3.** *Robot:* Write a State Machine class that represent a robot. The dimension of the world and the robot initial position should be specified during the class instantiation. The robot can take in the following input:\n",
    "- \"left\"\n",
    "- \"right\"\n",
    "- \"up\"\n",
    "- \"down\"\n",
    "\n",
    "The initial position of the robot is specified during the object instantiation and the input should modify the position of the robot. The robot position must not change if it exceed the boundary. At each step, the robot should output the updated position. "
   ]
  },
  {
   "cell_type": "code",
   "execution_count": 63,
   "metadata": {
    "collapsed": true,
    "deletable": false,
    "editable": false,
    "nbgrader": {
     "grade": false,
     "locked": true,
     "solution": false
    }
   },
   "outputs": [],
   "source": [
    "class Position:\n",
    "  \n",
    "    def __init__(self, x=0, y=0):\n",
    "        self.x = x\n",
    "        self.y = y\n",
    "  \n",
    "    def __str__(self):\n",
    "        return f\"({self.x:}, {self.y:})\"\n",
    "\n",
    "class Dimension:\n",
    "\n",
    "    def __init__(self, width=0, height=0):\n",
    "        self.width = width\n",
    "        self.height = height\n",
    "  \n",
    "    def __str__(self):\n",
    "        return f\"width: {self.width:}, height: {self.height:}\""
   ]
  },
  {
   "cell_type": "code",
   "execution_count": 64,
   "metadata": {
    "colab": [],
    "colab_type": "code",
    "collapsed": true,
    "id": "Cpgta89wHKcM"
   },
   "outputs": [],
   "source": [
    "class RobotSM(StateMachine):\n",
    "\n",
    "    def __init__(self, init_pos, dimension):\n",
    "        self.world_dim = dimension\n",
    "        self.start_state = init_pos\n",
    "  \n",
    "    def get_next_values(self, state, inp):        \n",
    "        if inp == \"right\":\n",
    "            state.x += 1\n",
    "        elif inp == \"left\":\n",
    "            state.x -= 1\n",
    "        elif inp == \"up\":\n",
    "            state.y += 1\n",
    "        elif inp == \"down\":\n",
    "            state.y -= 1\n",
    "            \n",
    "        if state.x < 0:\n",
    "            state.x = 0\n",
    "            \n",
    "        if state.y < 0:\n",
    "            state.y = 0\n",
    "            \n",
    "        if state.x > self.world_dim.width:\n",
    "            state.x = self.world_dim.width\n",
    "            \n",
    "        if state.y > self.world_dim.height:\n",
    "            state.y = self.world_dim.height\n",
    "            \n",
    "        return state, state"
   ]
  },
  {
   "cell_type": "code",
   "execution_count": 65,
   "metadata": {
    "colab": [],
    "colab_type": "code",
    "deletable": false,
    "editable": false,
    "id": "dAVM6rSCIxDX",
    "nbgrader": {
     "grade": true,
     "grade_id": "hw31",
     "locked": true,
     "points": "1",
     "solution": false
    }
   },
   "outputs": [],
   "source": [
    "robot = RobotSM(Position(0, 0), Dimension(5, 5))\n",
    "robot.start()\n",
    "robot.transduce([\"right\", \"right\", \"up\", \"up\", \"up\", \"left\", \"down\"])\n",
    "pos = robot.state\n",
    "assert pos.x == 1 and pos.y == 2"
   ]
  },
  {
   "cell_type": "code",
   "execution_count": 66,
   "metadata": {
    "collapsed": true,
    "deletable": false,
    "editable": false,
    "nbgrader": {
     "grade": true,
     "grade_id": "hw32",
     "locked": true,
     "points": "1",
     "solution": false
    }
   },
   "outputs": [],
   "source": [
    "###\n",
    "### AUTOGRADER TEST - DO NOT REMOVE\n",
    "###\n"
   ]
  },
  {
   "cell_type": "markdown",
   "metadata": {
    "colab_type": "text",
    "deletable": false,
    "editable": false,
    "id": "t4iXOJiNaMMR",
    "nbgrader": {
     "grade": false,
     "locked": true,
     "solution": false
    }
   },
   "source": [
    "**HW4.** *Search SM:* Write a function `sm_search` that takes in the following arguments:\n",
    "- `sm_to_search`: is the State Machine instance to search. This argument is of the type `MapSM` as defined in CS4. You should use the `get_next_values()` of this State Machine instance to explore the next state in your search.\n",
    "- `initial_state`: is the start state of the search. If it is not provided, it should be assigned to the `start_state` of sm_search. \n",
    "- `goal_test`: is a function that returns `True` if the argument is the end state of the search. If it is not provided, it should be eassigned to the `done` function of the state machine.\n",
    "\n",
    "This function performs a **breadth-first-search** algorithm to explore the next states. \n",
    "\n",
    "The output is a `list` of `Step` instances from the `init_state` to the end state which is determined by the `goal_test` function.\n",
    "\n",
    "This problem requires you to complete the following:\n",
    "- `Queue` class from Problem Set 4 HW2.\n",
    "- `MapSM` class in CS4.\n",
    "- `SearchNode` and `Step` classes in CS5."
   ]
  },
  {
   "cell_type": "code",
   "execution_count": 67,
   "metadata": {
    "colab": [],
    "colab_type": "code",
    "collapsed": true,
    "id": "jVauNWSLaM9y"
   },
   "outputs": [],
   "source": [
    "# Copy over the implementations of Queue from PS4 HW2\n",
    "class Queue:\n",
    "    def __init__(self):\n",
    "        self.__items = []\n",
    "    \n",
    "    def enqueue(self, item):\n",
    "        self.__items.append(item)\n",
    "        pass\n",
    "    \n",
    "    def dequeue(self):\n",
    "        if self.__items == []:\n",
    "            return None\n",
    "        else:\n",
    "            return self.__items.pop(0)\n",
    "        pass\n",
    "    \n",
    "    def peek(self):\n",
    "        if self.is_empty == True:\n",
    "            return None\n",
    "        else:\n",
    "            return self.__items[0]\n",
    "        pass\n",
    "    \n",
    "    @property\n",
    "    def is_empty(self):\n",
    "        if self.__items == []:\n",
    "            return True\n",
    "        else:\n",
    "            return False\n",
    "        pass\n",
    "    \n",
    "    @property\n",
    "    def size(self):\n",
    "        return len(self.__items)\n",
    "        pass"
   ]
  },
  {
   "cell_type": "code",
   "execution_count": 68,
   "metadata": {
    "collapsed": true
   },
   "outputs": [],
   "source": [
    "# Copy over the implementation of StateSpaceSearch from Cohort\n",
    "from abc import abstractmethod\n",
    "\n",
    "class StateSpaceSearch(StateMachine):\n",
    "    @property\n",
    "    @abstractmethod\n",
    "    def statemap(self):\n",
    "        pass\n",
    "\n",
    "    @property\n",
    "    @abstractmethod\n",
    "    def legal_inputs(self):\n",
    "        pass\n"
   ]
  },
  {
   "cell_type": "code",
   "execution_count": 77,
   "metadata": {},
   "outputs": [],
   "source": [
    "# Copy over the implementation of MapSM from Cohort\n",
    "class MapSM(StateSpaceSearch):\n",
    "        \n",
    "    def __init__(self, start):\n",
    "        self.start_state = start\n",
    "\n",
    "    @property\n",
    "    def statemap(self):\n",
    "        statemap = {\"S\": [\"A\", \"B\"],\n",
    "                    \"A\": [\"S\", \"C\", \"D\"],\n",
    "                    \"B\": [\"S\", \"D\", \"E\"],\n",
    "                    \"C\": [\"A\", \"F\"],\n",
    "                    \"D\": [\"A\", \"B\", \"F\", \"H\"],\n",
    "                    \"E\": [\"B\", \"H\"],\n",
    "                    \"F\": [\"C\", \"D\", \"G\"],\n",
    "                    \"H\": [\"D\", \"E\", \"G\"],\n",
    "                    \"G\": [\"F\", \"H\"]}\n",
    "        return statemap\n",
    "\n",
    "    @property\n",
    "    def legal_inputs(self):\n",
    "        state_length = [len(state) for state in self.statemap.values()]\n",
    "        return set(range(max(state_length)))\n",
    "        pass\n",
    "\n",
    "  \n",
    "    def get_next_values(self, state, inp):\n",
    "        if state in self.statemap:\n",
    "            legal_list = self.statemap[state]\n",
    "            if inp < len(legal_list):\n",
    "                next_state = legal_list[inp]\n",
    "                output = next_state\n",
    "                return next_state, output\n",
    "        return state, False\n",
    "        pass"
   ]
  },
  {
   "cell_type": "code",
   "execution_count": 78,
   "metadata": {
    "collapsed": true
   },
   "outputs": [],
   "source": [
    "# Copy over the implementations of Step and SearchNode from Cohort\n",
    "class Step:\n",
    "    def __init__(self, action, state):\n",
    "        self.action = action\n",
    "        self.state = state\n",
    "    \n",
    "    def __eq__(self, other):\n",
    "        return self.action == other.action and self.state == other.state\n",
    "  \n",
    "    def __str__(self):\n",
    "        return f\"action: {self.action:}, state: {self.state:}\"\n",
    "\n",
    "class SearchNode:\n",
    "    def __init__(self, action, state, parent):\n",
    "        self.state = state\n",
    "        self.action = action\n",
    "        self.parent = parent\n",
    "  \n",
    "    def path(self):\n",
    "        if self.parent == None:\n",
    "            return [Step(None, self.state)]\n",
    "        else:\n",
    "            return self.parent.path() + [Step(self.action, self.state)]\n",
    "        \n",
    "    def in_path(self, state):\n",
    "        if self.state == state:\n",
    "            return True\n",
    "        elif self.parent == None:\n",
    "            return False\n",
    "        else:\n",
    "            return self.parent.in_path(state)\n",
    "  \n",
    "    def __eq__(self, other):\n",
    "        if self is None and other is None:\n",
    "            return True\n",
    "        elif self is None:\n",
    "            return False\n",
    "        elif other is None:\n",
    "            return False\n",
    "        else:\n",
    "            return self.state == other.state and self.parent == other.parent and \\\n",
    "                   self.action == other.action"
   ]
  },
  {
   "cell_type": "code",
   "execution_count": 113,
   "metadata": {
    "colab": [],
    "colab_type": "code",
    "id": "5gqajGoo5KdP"
   },
   "outputs": [],
   "source": [
    "def sm_search(sm_to_search, initial_state=None, goal_test=None):\n",
    "    # check if initial_state is provided\n",
    "    # if it is, use it\n",
    "    # otherwise, get the start state of sm_to_search\n",
    "    if initial_state == None:\n",
    "        # replace None to take the start state of sm_to_search\n",
    "        init_state = sm_to_search.start_state\n",
    "    else:\n",
    "        init_state = initial_state\n",
    "  \n",
    "    # check if goal_test is provided\n",
    "    # if it is, use it\n",
    "    # otherwise, use the done method as the goal function\n",
    "    # taken from sm_to_search\n",
    "    if goal_test == None:\n",
    "        goal_func = sm_to_search.done\n",
    "    else:\n",
    "        goal_func = goal_test\n",
    "      \n",
    "    # create a Queue instance to store the node to explore\n",
    "    # replace the None below\n",
    "    agenda = Queue()\n",
    "  \n",
    "    # if the initial state is the goal state, \n",
    "    # then we are done and exit\n",
    "    if goal_func(init_state):\n",
    "        return [Step(None, init_state)]\n",
    "  \n",
    "    # otherwise, add the current node into the agenda \n",
    "    agenda.enqueue(SearchNode(None, init_state, None))\n",
    "    \n",
    "    # explore as long as the Queue is not empty\n",
    "    while not agenda.is_empty:\n",
    "        \n",
    "        # replace None to take out the parent from the Queue\n",
    "        parent = agenda.dequeue()\n",
    "        \n",
    "        # create a list to keep track which child state have been explored\n",
    "        new_child_state = []\n",
    "        \n",
    "        # get all the legal input values\n",
    "        actions = sm_to_search.legal_inputs\n",
    "        \n",
    "        #iterate over all legal inputs\n",
    "        for a in actions:\n",
    "            # get the next possible state using the current action\n",
    "            # call get_next_values to get the next state\n",
    "            # replace the None below\n",
    "            new_s, output = sm_to_search.get_next_values(parent.state, a)\n",
    "            \n",
    "            # create a new search node from the new_s\n",
    "            # replace the None below\n",
    "            new_n = SearchNode(a, new_s, parent)\n",
    "            \n",
    "            # if the new state is the goal state, then we exit and return the path\n",
    "            if goal_func(new_s):\n",
    "                return new_n.path()\n",
    "            \n",
    "            # if the new state is already in the list of new child state, ignore it\n",
    "            elif new_s in new_child_state:\n",
    "                pass\n",
    "            \n",
    "            # if the new state is in the path of the current node, ignore it\n",
    "            elif parent.in_path(new_s):\n",
    "                pass\n",
    "            \n",
    "            # otherwise, add the new state into the list\n",
    "            # and the new node into the Queue\n",
    "            else:\n",
    "                # step 1. add the new state into the new_child_state\n",
    "                new_child_state.append(new_s)\n",
    "                \n",
    "                # step 2. add the new node into the Queue\n",
    "                agenda.enqueue(new_n)\n",
    "                pass\n",
    "    return None"
   ]
  },
  {
   "cell_type": "code",
   "execution_count": 114,
   "metadata": {
    "colab": {
     "base_uri": "https://localhost:8080/",
     "height": 85
    },
    "colab_type": "code",
    "deletable": false,
    "editable": false,
    "id": "xt-3GH5RL6Kj",
    "nbgrader": {
     "grade": true,
     "grade_id": "hw41",
     "locked": true,
     "points": "1",
     "solution": false
    },
    "outputId": "4ef5cf2c-c7a2-4581-889a-b5eeadc64429"
   },
   "outputs": [
    {
     "name": "stdout",
     "output_type": "stream",
     "text": [
      "action: None, state: S\n",
      "action: 0, state: A\n",
      "action: 2, state: D\n",
      "action: 3, state: H\n"
     ]
    }
   ],
   "source": [
    "mapSM = MapSM(\"S\")\n",
    "ans = sm_search(mapSM , \"S\" , lambda s: s==\"H\" )\n",
    "steps = [(step.action, step.state) for step in ans]\n",
    "assert steps == [(None, \"S\"), (0, \"A\"), (2, \"D\"), (3, \"H\")]\n",
    "for step in ans:\n",
    "    print(step)"
   ]
  },
  {
   "cell_type": "code",
   "execution_count": 115,
   "metadata": {
    "collapsed": true,
    "deletable": false,
    "editable": false,
    "nbgrader": {
     "grade": true,
     "grade_id": "hw42",
     "locked": true,
     "points": "1",
     "solution": false
    }
   },
   "outputs": [],
   "source": [
    "###\n",
    "### AUTOGRADER TEST - DO NOT REMOVE\n",
    "###\n"
   ]
  },
  {
   "cell_type": "code",
   "execution_count": null,
   "metadata": {
    "collapsed": true
   },
   "outputs": [],
   "source": []
  }
 ],
 "metadata": {
  "kernelspec": {
   "display_name": "Python 3 (ipykernel)",
   "language": "python",
   "name": "python3"
  },
  "language_info": {
   "codemirror_mode": {
    "name": "ipython",
    "version": 3
   },
   "file_extension": ".py",
   "mimetype": "text/x-python",
   "name": "python",
   "nbconvert_exporter": "python",
   "pygments_lexer": "ipython3",
   "version": "3.9.9"
  }
 },
 "nbformat": 4,
 "nbformat_minor": 4
}
