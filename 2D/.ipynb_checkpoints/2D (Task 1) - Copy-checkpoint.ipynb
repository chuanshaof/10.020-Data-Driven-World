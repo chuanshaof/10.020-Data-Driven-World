{
 "cells": [
  {
   "cell_type": "markdown",
   "id": "74599c52",
   "metadata": {},
   "source": [
    "# Group 9 SC06"
   ]
  },
  {
   "cell_type": "markdown",
   "id": "a3fa3c1d",
   "metadata": {},
   "source": [
    "### Requirements\n",
    "Import the below packages. If an error of \"module not found\" is shown, use the following commands in your command prompt or Windows Powershell.\n",
    "\n",
    "- pip install numpy\n",
    "- pip install pandas\n",
    "- pip install matplotlib.pyplot\n",
    "- pip install seaborn"
   ]
  },
  {
   "cell_type": "code",
   "execution_count": 902,
   "id": "0b5f59b4",
   "metadata": {},
   "outputs": [],
   "source": [
    "import numpy as np\n",
    "import pandas as pd\n",
    "import matplotlib.pyplot as plt\n",
    "import seaborn as sns\n",
    "import math"
   ]
  },
  {
   "cell_type": "markdown",
   "id": "1f446f0f",
   "metadata": {},
   "source": [
    "## Base code used for Multiple Linear Regression (MLR)\n",
    "\n",
    "The below code was adapted from Data Driven World problem sets. Comments are written to give an basic understand of what each function does."
   ]
  },
  {
   "cell_type": "code",
   "execution_count": 903,
   "id": "7eee5b2c",
   "metadata": {},
   "outputs": [],
   "source": [
    "# Apply Z-normalization on the data to change the data into a standard normal distribution\n",
    "def normalize_z(df):    \n",
    "    return (df - df.mean()) / df.std()\n",
    "\n",
    "# Scale all data from 0 to 1\n",
    "def normalize_minmax(dfin):\n",
    "    df_max =  dfin.max(axis = 0)\n",
    "    df_min = dfin.min(axis = 0)\n",
    "    dfout = (dfin - df_min) / (df_max - df_min)\n",
    "    return dfout\n",
    "\n",
    "# To split the DataFrame into its dependent and independent variables according to the country specified\n",
    "def get_independents_dependents(df, independent_names, dependent_names):\n",
    "    df_independent = df.loc[: , independent_names]\n",
    "    df_dependent = df.loc[: , dependent_names]\n",
    "    return df_independent, df_dependent\n",
    "\n",
    "# Add a 1 column on the left of the dataframe for constant and add change the dataframe into a numpy array\n",
    "def prepare_independent(df_independent):\n",
    "    left = np.ones((len(df_independent), 1))\n",
    "    np_independent = df_independent.to_numpy()\n",
    "    \n",
    "    # axis = 1 indicates to move it along the x axis or in the way of the columns\n",
    "    return np.concatenate((left, np_independent), axis=1)\n",
    "\n",
    "# Change dataframe into a numpy array\n",
    "def prepare_dependent(df_dependent):\n",
    "    return df_dependent.to_numpy()\n",
    "\n",
    "# Calculate and get predicted values\n",
    "def predict(df_independent, beta):\n",
    "    df_independent = normalize_z(df_independent)\n",
    "    df_independent = prepare_independent(df_independent)\n",
    "    return np.matmul(df_independent, beta)\n",
    "\n",
    "# Split the input data into training dataset and testing datasets\n",
    "def split_data(df_independent, df_dependent, random_state=None, test_size=0.5):\n",
    "    np.random.seed(random_state)\n",
    "\n",
    "    test_length = int(len(df_independent) * test_size)\n",
    "    independent = np.random.choice(len(df_independent), len(df_independent), replace=False)\n",
    "    \n",
    "    df_independent_test = df_independent.loc[independent[:test_length], :]\n",
    "    df_independent_train = df_independent.loc[independent[test_length:], :]    \n",
    "    df_dependent_test = df_dependent.loc[independent[:test_length], :]\n",
    "    df_dependent_train = df_dependent.loc[independent[test_length:], :]\n",
    "    \n",
    "    return df_independent_train, df_independent_test, df_dependent_train, df_dependent_test\n",
    "  \n",
    "# Calculate the r2 score to see the fit of the model\n",
    "def r2_score(y, ypred):\n",
    "    if type(y) == pd.DataFrame:\n",
    "        y = y.to_numpy()\n",
    "        \n",
    "    if type(ypred) == pd.DataFrame:\n",
    "        ypred = ypred.to_numpy()\n",
    "        \n",
    "    ymean = np.mean(y)\n",
    "    ss_res = np.sum(np.matmul((y - ypred).T, (y - ypred)))\n",
    "    ss_tot = np.sum(np.matmul((y - ymean).T, (y - ymean)))\n",
    "    \n",
    "    return 1 - (ss_res / ss_tot)\n",
    "    pass\n",
    "\n",
    "# r2 adjusted is to take into account the number of variables used in retrospect with the number of data points\n",
    "def r2_adjusted(dependent, pred, beta):\n",
    "    r2 = r2_score(dependent, pred)\n",
    "    n = dependent.shape[0]\n",
    "    k = beta.shape[0]\n",
    "    r2_adj = 1 - (((1 - r2) * (n - 1)) / (n - k - 1))\n",
    "    return r2_adj\n",
    "\n",
    "# Calculate the mean squared error\n",
    "def root_mean_squared_error(dependent, pred):\n",
    "    if type(dependent) == pd.DataFrame:\n",
    "        dependent = dependent.to_numpy()\n",
    "        \n",
    "    if type(pred) == pd.DataFrame:\n",
    "        pred = pred.to_numpy()\n",
    "        \n",
    "    ss_res = np.sum(np.matmul((dependent - pred).T, (dependent - pred)))\n",
    "    \n",
    "    mse = 1 / len(dependent) * ss_res\n",
    "    return math.sqrt(mse)\n",
    "    pass\n",
    "\n",
    "# Used to calculate cost function\n",
    "def compute_cost(X, y, beta):\n",
    "    inner = np.matmul(X, beta) - y\n",
    "    J = (1 / (2 * len(X))) * np.matmul(inner.T, inner)\n",
    "    J = J[0][0]\n",
    "    return J\n",
    "\n",
    "# Using gradient descent to optimize the beta found\n",
    "def gradient_descent(X, y, beta, alpha, num_iters = 1500):\n",
    "    J_storage = compute_cost(X, y, beta)\n",
    "    \n",
    "    for _ in range(num_iters):\n",
    "        beta = beta - alpha / len(y) * np.matmul(X.T, np.matmul(X, beta) - y)\n",
    "        J_storage = np.append(J_storage, compute_cost(X, y, beta))\n",
    "        \n",
    "    return beta, J_storage"
   ]
  },
  {
   "cell_type": "markdown",
   "id": "48970505",
   "metadata": {},
   "source": [
    "## Functions to simplify procedure for modelling and plotting\n",
    "\n",
    "The below 2 functions are to define the procedure to compress the Multiple Linear Regression model into a single function and to plot all graphs according to the list of independent and dependent variables."
   ]
  },
  {
   "cell_type": "code",
   "execution_count": 904,
   "id": "02cbb6c5",
   "metadata": {},
   "outputs": [],
   "source": [
    "# Define a function such that it is reusable easily\n",
    "def linear_regression(df_independent, df_dependent):\n",
    "    # Normalize the independents using z normalization\n",
    "    df_independent = normalize_z(df_independent)\n",
    "\n",
    "    # Change the independents and the dependent to numpy array using the prepare functions\n",
    "    X = prepare_independent(df_independent)\n",
    "    dependent = prepare_dependent(df_dependent)\n",
    "\n",
    "    iterations = 1500\n",
    "    alpha = 0.01\n",
    "    beta = np.zeros((len(independent_column) + 1, 1))\n",
    "\n",
    "    # Call the gradient_descent function\n",
    "    beta, J_storage = gradient_descent(X, dependent, beta, alpha, iterations)\n",
    "\n",
    "    # call the predict() method\n",
    "    pred = predict(df_independent, beta)\n",
    "    \n",
    "    # Print all of the betas with labels at the side\n",
    "    for idx in range(len(beta)):\n",
    "        if idx == 0:\n",
    "            print(\"Constant: \" + str(beta[idx]))\n",
    "        else:\n",
    "            print(independent_column[idx - 1] + \": \" + str(beta[idx]))\n",
    "    print(\"\\n\") \n",
    "\n",
    "    # change dependent test set to a numpy array\n",
    "    dependent = prepare_dependent(df_dependent)\n",
    "\n",
    "    # Calculate r2 score\n",
    "    r2 = r2_score(dependent, pred)   \n",
    "    print(\"r2:\", r2)\n",
    "    \n",
    "    # Calculate r2_adjusted score\n",
    "    r2_adj = r2_adjusted(dependent, pred, beta)\n",
    "    print(\"r2_adj:\", r2_adj)\n",
    "\n",
    "    # Calculate the RMSE and the mean to compare the data\n",
    "    rmse = root_mean_squared_error(dependent, pred)\n",
    "\n",
    "    print(\"RMSE:\", rmse)\n",
    "    print(\"Mean:\", float(df_dependent.mean()))\n",
    "    \n",
    "    # Check and verify that the cost function decreases and optimal beta is found\n",
    "    plt.title(f\"Cost function over {iterations} iterations\")\n",
    "    plt.plot(J_storage)\n",
    "    \n",
    "    return beta, pred"
   ]
  },
  {
   "cell_type": "code",
   "execution_count": 905,
   "id": "9ca4389a",
   "metadata": {},
   "outputs": [],
   "source": [
    "# Plot all of the \n",
    "def plot_relationship(df_independent, df_dependent, pred, dependent_column, independent_column):\n",
    "    for idx in range(len(independent_column)):\n",
    "        plt.figure(idx)\n",
    "        plt.scatter(df_independent[independent_column[idx]], df_dependent, label=\"Actual\")\n",
    "        plt.scatter(df_independent[independent_column[idx]], pred, label=\"Predicted\")\n",
    "        plt.xlabel(independent_column[idx])\n",
    "        plt.ylabel(dependent_column[0])\n",
    "        plt.title(independent_column[idx])\n",
    "        plt.legend()"
   ]
  },
  {
   "cell_type": "markdown",
   "id": "c089d814",
   "metadata": {},
   "source": [
    "# Introduction\n",
    "\n",
    "Almost two years have passed since the beginning of the COVID-19 pandemic, and the whole world is still grappling with the disruption that the appearance of the SARS-Cov-2 virus has brought us. This pandemic's effects can be felt very strongly in the exceptional death toll that it has left us with. \n",
    "\n",
    "In this study, we will analyze and discuss the impact of several factors affecting the number of deaths due to COVID-19. As part of the study, we will build a Multiple Linear Regression (MLR) model that predicts the number of deaths based on some known data of a country. "
   ]
  },
  {
   "cell_type": "markdown",
   "id": "bc839af5",
   "metadata": {},
   "source": [
    "## Analyzing potential predictor variables\n",
    "\n",
    "To begin, we start with online research to determine useful predictors that we would like to include in our model. These useful predictors are merely just guides and does not have to be used extensively. \n",
    "\n",
    "- **Number of cases**\n",
    "    - The first intuitive and straightfoward predictor would be the number of cases. As can be seen, with a large amount of cases, can there be a large amount of deaths. Therefore, one of the predictor that we would like is the number of cases.\n",
    "    \n",
    "    \n",
    "- **Health of the people & Age**\n",
    "    - Based on a study by a group of researchers in Rio de Janerio, it is suggested that an individual's immunity affects the susceptibility to suffer more severe form of infection. It is also found that older people have lower immunity, thus, mortality and lethality increases with age. https://bmcinfectdis.biomedcentral.com/articles/10.1186/s12879-021-06384-1\n",
    "    \n",
    "    \n",
    "- **Skin colour & Gender**\n",
    "    - Based on the study in Rio de Janerio, skin colour and gender have also been found to be associated with the probability of death. https://bmcinfectdis.biomedcentral.com/articles/10.1186/s12879-021-06384-1\n",
    "    \n",
    "    \n",
    "- **Vaccination Status**\n",
    "    - Based on a study by the Centers of Disease Control and Prevention (CDC), an individual that has been vaccinated has lower mortality rate. https://www.cdc.gov/mmwr/volumes/70/wr/mm7043e2.html\n",
    "    \n",
    "    \n",
    "- **Population, Income, Occupation, & Transport**\n",
    "    - Based on a study in the United States, it is suggested that the population, income, occupation, and transport has a high association with the spread of the virus. With higher spread of virus, there would be more cases, thus we can also infer that there would be more deaths. https://www.sciencedirect.com/science/article/pii/S2666016420300657\n",
    "    \n",
    "    \n",
    "- **Healthcare Systems & Policies**\n",
    "    - Based on a study in the European Union, a variable found to greatly influence the COVID-19 mortality rate depends on the healthcare system a country has, as well as the policies that they possess. https://www.sciencedirect.com/science/article/pii/S0033350621003504"
   ]
  },
  {
   "cell_type": "markdown",
   "id": "23e46901",
   "metadata": {},
   "source": [
    "## Finding and reading data set\n",
    "\n",
    "Through online searches, a comprehensive data set has been found from https://ourworldindata.org/covid-deaths. \n",
    "\n",
    "To begin, we can firstly look at the dataset that we have found and search through the columns and countries that it contains and identify the information that we want. Furthermore, we would also like to verify that the number of countries is more than 20."
   ]
  },
  {
   "cell_type": "code",
   "execution_count": 906,
   "id": "a48721d8",
   "metadata": {
    "scrolled": true
   },
   "outputs": [
    {
     "name": "stdout",
     "output_type": "stream",
     "text": [
      "Dataset shape: (126246, 65)\n",
      "Number of locations: 233 \n",
      "\n",
      "Index(['iso_code', 'continent', 'location', 'date', 'total_cases', 'new_cases',\n",
      "       'new_cases_smoothed', 'total_deaths', 'new_deaths',\n",
      "       'new_deaths_smoothed', 'total_cases_per_million',\n",
      "       'new_cases_per_million', 'new_cases_smoothed_per_million',\n",
      "       'total_deaths_per_million', 'new_deaths_per_million',\n",
      "       'new_deaths_smoothed_per_million', 'reproduction_rate', 'icu_patients',\n",
      "       'icu_patients_per_million', 'hosp_patients',\n",
      "       'hosp_patients_per_million', 'weekly_icu_admissions',\n",
      "       'weekly_icu_admissions_per_million', 'weekly_hosp_admissions',\n",
      "       'weekly_hosp_admissions_per_million', 'new_tests', 'total_tests',\n",
      "       'total_tests_per_thousand', 'new_tests_per_thousand',\n",
      "       'new_tests_smoothed', 'new_tests_smoothed_per_thousand',\n",
      "       'positive_rate', 'tests_per_case', 'tests_units', 'total_vaccinations',\n",
      "       'people_vaccinated', 'people_fully_vaccinated', 'total_boosters',\n",
      "       'new_vaccinations', 'new_vaccinations_smoothed',\n",
      "       'total_vaccinations_per_hundred', 'people_vaccinated_per_hundred',\n",
      "       'people_fully_vaccinated_per_hundred', 'total_boosters_per_hundred',\n",
      "       'new_vaccinations_smoothed_per_million', 'stringency_index',\n",
      "       'population', 'population_density', 'median_age', 'aged_65_older',\n",
      "       'aged_70_older', 'gdp_per_capita', 'extreme_poverty',\n",
      "       'cardiovasc_death_rate', 'diabetes_prevalence', 'female_smokers',\n",
      "       'male_smokers', 'handwashing_facilities', 'hospital_beds_per_thousand',\n",
      "       'life_expectancy', 'human_development_index',\n",
      "       'excess_mortality_cumulative_absolute', 'excess_mortality_cumulative',\n",
      "       'excess_mortality', 'excess_mortality_cumulative_per_million'],\n",
      "      dtype='object') \n",
      "\n",
      "['Afghanistan' 'Africa' 'Albania' 'Algeria' 'Andorra' 'Angola' 'Anguilla'\n",
      " 'Antigua and Barbuda' 'Argentina' 'Armenia' 'Aruba' 'Asia' 'Australia'\n",
      " 'Austria' 'Azerbaijan' 'Bahamas' 'Bahrain' 'Bangladesh' 'Barbados'\n",
      " 'Belarus' 'Belgium' 'Belize' 'Benin' 'Bermuda' 'Bhutan' 'Bolivia'\n",
      " 'Bonaire Sint Eustatius and Saba' 'Bosnia and Herzegovina' 'Botswana'\n",
      " 'Brazil' 'British Virgin Islands' 'Brunei' 'Bulgaria' 'Burkina Faso'\n",
      " 'Burundi' 'Cambodia' 'Cameroon' 'Canada' 'Cape Verde' 'Cayman Islands'\n",
      " 'Central African Republic' 'Chad' 'Chile' 'China' 'Colombia' 'Comoros'\n",
      " 'Congo' 'Cook Islands' 'Costa Rica' \"Cote d'Ivoire\" 'Croatia' 'Cuba'\n",
      " 'Curacao' 'Cyprus' 'Czechia' 'Democratic Republic of Congo' 'Denmark'\n",
      " 'Djibouti' 'Dominica' 'Dominican Republic' 'Ecuador' 'Egypt'\n",
      " 'El Salvador' 'Equatorial Guinea' 'Eritrea' 'Estonia' 'Eswatini'\n",
      " 'Ethiopia' 'Europe' 'European Union' 'Faeroe Islands' 'Falkland Islands'\n",
      " 'Fiji' 'Finland' 'France' 'French Polynesia' 'Gabon' 'Gambia' 'Georgia'\n",
      " 'Germany' 'Ghana' 'Gibraltar' 'Greece' 'Greenland' 'Grenada' 'Guatemala'\n",
      " 'Guernsey' 'Guinea' 'Guinea-Bissau' 'Guyana' 'Haiti' 'Honduras'\n",
      " 'Hong Kong' 'Hungary' 'Iceland' 'India' 'Indonesia' 'International'\n",
      " 'Iran' 'Iraq' 'Ireland' 'Isle of Man' 'Israel' 'Italy' 'Jamaica' 'Japan'\n",
      " 'Jersey' 'Jordan' 'Kazakhstan' 'Kenya' 'Kiribati' 'Kosovo' 'Kuwait'\n",
      " 'Kyrgyzstan' 'Laos' 'Latvia' 'Lebanon' 'Lesotho' 'Liberia' 'Libya'\n",
      " 'Liechtenstein' 'Lithuania' 'Luxembourg' 'Macao' 'Madagascar' 'Malawi'\n",
      " 'Malaysia' 'Maldives' 'Mali' 'Malta' 'Marshall Islands' 'Mauritania'\n",
      " 'Mauritius' 'Mexico' 'Micronesia (country)' 'Moldova' 'Monaco' 'Mongolia'\n",
      " 'Montenegro' 'Montserrat' 'Morocco' 'Mozambique' 'Myanmar' 'Namibia'\n",
      " 'Nauru' 'Nepal' 'Netherlands' 'New Caledonia' 'New Zealand' 'Nicaragua'\n",
      " 'Niger' 'Nigeria' 'Niue' 'North America' 'North Macedonia'\n",
      " 'Northern Cyprus' 'Norway' 'Oceania' 'Oman' 'Pakistan' 'Palau'\n",
      " 'Palestine' 'Panama' 'Papua New Guinea' 'Paraguay' 'Peru' 'Philippines'\n",
      " 'Pitcairn' 'Poland' 'Portugal' 'Qatar' 'Romania' 'Russia' 'Rwanda'\n",
      " 'Saint Helena' 'Saint Kitts and Nevis' 'Saint Lucia'\n",
      " 'Saint Vincent and the Grenadines' 'Samoa' 'San Marino'\n",
      " 'Sao Tome and Principe' 'Saudi Arabia' 'Senegal' 'Serbia' 'Seychelles'\n",
      " 'Sierra Leone' 'Singapore' 'Sint Maarten (Dutch part)' 'Slovakia'\n",
      " 'Slovenia' 'Solomon Islands' 'Somalia' 'South Africa' 'South America'\n",
      " 'South Korea' 'South Sudan' 'Spain' 'Sri Lanka' 'Sudan' 'Suriname'\n",
      " 'Sweden' 'Switzerland' 'Syria' 'Taiwan' 'Tajikistan' 'Tanzania'\n",
      " 'Thailand' 'Timor' 'Togo' 'Tokelau' 'Tonga' 'Trinidad and Tobago'\n",
      " 'Tunisia' 'Turkey' 'Turkmenistan' 'Turks and Caicos Islands' 'Tuvalu'\n",
      " 'Uganda' 'Ukraine' 'United Arab Emirates' 'United Kingdom'\n",
      " 'United States' 'Uruguay' 'Uzbekistan' 'Vanuatu' 'Vatican' 'Venezuela'\n",
      " 'Vietnam' 'Wallis and Futuna' 'World' 'Yemen' 'Zambia' 'Zimbabwe'] \n",
      "\n"
     ]
    }
   ],
   "source": [
    "# Read the CSV file\n",
    "owid_csv = pd.read_csv(\"covid-data.csv\")\n",
    "\n",
    "print(\"Dataset shape:\", owid_csv.shape)\n",
    "print(\"Number of locations:\", len(pd.unique(owid_csv[\"location\"])), \"\\n\")\n",
    "\n",
    "print(owid_csv.columns, \"\\n\")\n",
    "\n",
    "print(owid_csv[\"location\"].unique(), \"\\n\")"
   ]
  },
  {
   "cell_type": "markdown",
   "id": "8510354a",
   "metadata": {},
   "source": [
    "## Understanding our data set"
   ]
  },
  {
   "cell_type": "markdown",
   "id": "ca27b21d",
   "metadata": {},
   "source": [
    "### Preliminary cleaning up of data set\n",
    "\n",
    "To begin, we can firstly clean up our data and remove the locations such as \"World\", \"Asia\", etc, from the data as it is the sum of all countries in a region and would be a major outlier. By looking at the excel file, it is shown that those without inputs in \"continents\" are cumulative data.\n",
    "\n",
    "Secondly, we also drop data that are non-numerical or not expected to be used in this study such as \"iso_code\", \"continent\", and \"date\". We would like to keep \"location\" so that we are able to verify that our research contains at least 20 countries as part of our requirements.\n",
    "\n",
    "Additionally, in this data set, we can see that there are smoothed and non-smoothed datas. Through online research, we would like to use the smoothed data as they are more complete and they have already been modified to remove noise and help us better identify patterns. https://www.investopedia.com/terms/d/data-smoothing.asp\n",
    "\n",
    "Furthermore, as we are finding the number of deaths based on the information provided, we would work with absolute datas instead of relative datas. \n",
    "\n",
    "Lastly, we would also remove cumulative data such as \"total_deaths\" as we would like to work daily information to provide a better understanding of the daily situation based on the country's information."
   ]
  },
  {
   "cell_type": "code",
   "execution_count": 907,
   "id": "b4c8fe7c",
   "metadata": {
    "scrolled": true
   },
   "outputs": [
    {
     "data": {
      "text/plain": [
       "Index(['location', 'new_cases_smoothed', 'new_deaths_smoothed',\n",
       "       'reproduction_rate', 'icu_patients', 'hosp_patients',\n",
       "       'weekly_icu_admissions', 'weekly_hosp_admissions', 'new_tests_smoothed',\n",
       "       'positive_rate', 'tests_units', 'people_vaccinated',\n",
       "       'people_fully_vaccinated', 'new_vaccinations_smoothed',\n",
       "       'stringency_index', 'population', 'population_density', 'median_age',\n",
       "       'aged_65_older', 'aged_70_older', 'extreme_poverty',\n",
       "       'cardiovasc_death_rate', 'diabetes_prevalence', 'female_smokers',\n",
       "       'male_smokers', 'handwashing_facilities', 'life_expectancy',\n",
       "       'human_development_index', 'excess_mortality_cumulative_absolute',\n",
       "       'excess_mortality_cumulative', 'excess_mortality'],\n",
       "      dtype='object')"
      ]
     },
     "execution_count": 907,
     "metadata": {},
     "output_type": "execute_result"
    }
   ],
   "source": [
    "# Remove data where continent is NAN\n",
    "owid_df = owid_csv.dropna(subset=[\"continent\"])\n",
    "\n",
    "# Verify that \"World\" and \"Asia\" has been dropped\n",
    "assert not len(owid_df.loc[owid_df[\"location\"] == \"World\"])\n",
    "assert not len(owid_df.loc[owid_df[\"location\"] == \"Asia\"])\n",
    "\n",
    "# Removing non-numerical data\n",
    "owid_df = owid_df.drop(columns=[\"iso_code\", \"continent\", \"date\"])\n",
    "\n",
    "# Removing non smoothed datas\n",
    "owid_df = owid_df.drop(columns=[\"new_cases\", \"new_deaths\", \"new_tests\", \"new_vaccinations\"])\n",
    "\n",
    "# Removing relative data\n",
    "per_columns = [col for col in owid_df if '_per_' in col]\n",
    "owid_df = owid_df.drop(columns=per_columns)\n",
    "\n",
    "# Removing total data\n",
    "total_columns = [col for col in owid_df if 'total_' in col]\n",
    "owid_df = owid_df.drop(columns=total_columns)\n",
    "\n",
    "# Verify that columns are what we want\n",
    "owid_df.columns"
   ]
  },
  {
   "cell_type": "markdown",
   "id": "3bb95fac",
   "metadata": {},
   "source": [
    "### Visualizing relationship\n",
    "\n",
    "To visualize our relationship between the number of deaths and the other variables, we can do a pairplot between our dependent variable \"new_death_smoothed\" and the other variables."
   ]
  },
  {
   "cell_type": "code",
   "execution_count": 908,
   "id": "c8f882c2",
   "metadata": {},
   "outputs": [],
   "source": [
    "# sns.pairplot(owid_df, y_vars=[\"new_deaths_smoothed\"], dropna=True)"
   ]
  },
  {
   "cell_type": "markdown",
   "id": "9253895e",
   "metadata": {},
   "source": [
    "### Extracting predictor variables & Cleaning up data set\n",
    "\n",
    "From our dataset, we can see that the predictors that we have some of potential variables as forementioned.\n",
    "- **new_cases_smoothed**\n",
    "    - This is equivalent to the number of cases\n",
    "- **people_fully_vaccinated_percent**\n",
    "    - This is equivalent to the vaccination status. This data is created and modified to show the percentage of vaccinated individuals in the country. Here, we make an assumption that each person in the country has the same probability to be vaccinated. This will be calculated using \"people_fully_vaccinated\" and \"population\".\n",
    "- **life_expectancy**\n",
    "    - This is used in place as a health status indicator.\n",
    "- **median_age**\n",
    "    - This is an indication of the age of the country.\n",
    "\n",
    "Additionally, to ensure that there no lapse in data, we are going to remove rows with NAN data."
   ]
  },
  {
   "cell_type": "code",
   "execution_count": 909,
   "id": "23767bf2",
   "metadata": {},
   "outputs": [
    {
     "data": {
      "text/html": [
       "<div>\n",
       "<style scoped>\n",
       "    .dataframe tbody tr th:only-of-type {\n",
       "        vertical-align: middle;\n",
       "    }\n",
       "\n",
       "    .dataframe tbody tr th {\n",
       "        vertical-align: top;\n",
       "    }\n",
       "\n",
       "    .dataframe thead th {\n",
       "        text-align: right;\n",
       "    }\n",
       "</style>\n",
       "<table border=\"1\" class=\"dataframe\">\n",
       "  <thead>\n",
       "    <tr style=\"text-align: right;\">\n",
       "      <th></th>\n",
       "      <th>location</th>\n",
       "      <th>new_cases_smoothed</th>\n",
       "      <th>people_fully_vaccinated_percent</th>\n",
       "      <th>life_expectancy</th>\n",
       "      <th>median_age</th>\n",
       "      <th>new_deaths_smoothed</th>\n",
       "    </tr>\n",
       "  </thead>\n",
       "  <tbody>\n",
       "    <tr>\n",
       "      <th>0</th>\n",
       "      <td>Afghanistan</td>\n",
       "      <td>262.857</td>\n",
       "      <td>0.001396</td>\n",
       "      <td>64.83</td>\n",
       "      <td>18.6</td>\n",
       "      <td>8.857</td>\n",
       "    </tr>\n",
       "    <tr>\n",
       "      <th>1</th>\n",
       "      <td>Afghanistan</td>\n",
       "      <td>218.571</td>\n",
       "      <td>0.001947</td>\n",
       "      <td>64.83</td>\n",
       "      <td>18.6</td>\n",
       "      <td>7.286</td>\n",
       "    </tr>\n",
       "    <tr>\n",
       "      <th>2</th>\n",
       "      <td>Afghanistan</td>\n",
       "      <td>382.429</td>\n",
       "      <td>0.002433</td>\n",
       "      <td>64.83</td>\n",
       "      <td>18.6</td>\n",
       "      <td>9.571</td>\n",
       "    </tr>\n",
       "    <tr>\n",
       "      <th>3</th>\n",
       "      <td>Afghanistan</td>\n",
       "      <td>517.286</td>\n",
       "      <td>0.002789</td>\n",
       "      <td>64.83</td>\n",
       "      <td>18.6</td>\n",
       "      <td>13.286</td>\n",
       "    </tr>\n",
       "    <tr>\n",
       "      <th>4</th>\n",
       "      <td>Afghanistan</td>\n",
       "      <td>541.571</td>\n",
       "      <td>0.002855</td>\n",
       "      <td>64.83</td>\n",
       "      <td>18.6</td>\n",
       "      <td>13.857</td>\n",
       "    </tr>\n",
       "    <tr>\n",
       "      <th>...</th>\n",
       "      <td>...</td>\n",
       "      <td>...</td>\n",
       "      <td>...</td>\n",
       "      <td>...</td>\n",
       "      <td>...</td>\n",
       "      <td>...</td>\n",
       "    </tr>\n",
       "    <tr>\n",
       "      <th>21390</th>\n",
       "      <td>Zimbabwe</td>\n",
       "      <td>41.286</td>\n",
       "      <td>0.167826</td>\n",
       "      <td>61.49</td>\n",
       "      <td>19.6</td>\n",
       "      <td>1.000</td>\n",
       "    </tr>\n",
       "    <tr>\n",
       "      <th>21391</th>\n",
       "      <td>Zimbabwe</td>\n",
       "      <td>43.286</td>\n",
       "      <td>0.168508</td>\n",
       "      <td>61.49</td>\n",
       "      <td>19.6</td>\n",
       "      <td>1.143</td>\n",
       "    </tr>\n",
       "    <tr>\n",
       "      <th>21392</th>\n",
       "      <td>Zimbabwe</td>\n",
       "      <td>36.429</td>\n",
       "      <td>0.168970</td>\n",
       "      <td>61.49</td>\n",
       "      <td>19.6</td>\n",
       "      <td>0.857</td>\n",
       "    </tr>\n",
       "    <tr>\n",
       "      <th>21393</th>\n",
       "      <td>Zimbabwe</td>\n",
       "      <td>40.429</td>\n",
       "      <td>0.169276</td>\n",
       "      <td>61.49</td>\n",
       "      <td>19.6</td>\n",
       "      <td>1.571</td>\n",
       "    </tr>\n",
       "    <tr>\n",
       "      <th>21394</th>\n",
       "      <td>Zimbabwe</td>\n",
       "      <td>45.714</td>\n",
       "      <td>0.169687</td>\n",
       "      <td>61.49</td>\n",
       "      <td>19.6</td>\n",
       "      <td>2.143</td>\n",
       "    </tr>\n",
       "  </tbody>\n",
       "</table>\n",
       "<p>21395 rows × 6 columns</p>\n",
       "</div>"
      ],
      "text/plain": [
       "          location  new_cases_smoothed  people_fully_vaccinated_percent  \\\n",
       "0      Afghanistan             262.857                         0.001396   \n",
       "1      Afghanistan             218.571                         0.001947   \n",
       "2      Afghanistan             382.429                         0.002433   \n",
       "3      Afghanistan             517.286                         0.002789   \n",
       "4      Afghanistan             541.571                         0.002855   \n",
       "...            ...                 ...                              ...   \n",
       "21390     Zimbabwe              41.286                         0.167826   \n",
       "21391     Zimbabwe              43.286                         0.168508   \n",
       "21392     Zimbabwe              36.429                         0.168970   \n",
       "21393     Zimbabwe              40.429                         0.169276   \n",
       "21394     Zimbabwe              45.714                         0.169687   \n",
       "\n",
       "       life_expectancy  median_age  new_deaths_smoothed  \n",
       "0                64.83        18.6                8.857  \n",
       "1                64.83        18.6                7.286  \n",
       "2                64.83        18.6                9.571  \n",
       "3                64.83        18.6               13.286  \n",
       "4                64.83        18.6               13.857  \n",
       "...                ...         ...                  ...  \n",
       "21390            61.49        19.6                1.000  \n",
       "21391            61.49        19.6                1.143  \n",
       "21392            61.49        19.6                0.857  \n",
       "21393            61.49        19.6                1.571  \n",
       "21394            61.49        19.6                2.143  \n",
       "\n",
       "[21395 rows x 6 columns]"
      ]
     },
     "execution_count": 909,
     "metadata": {},
     "output_type": "execute_result"
    }
   ],
   "source": [
    "# Create new column called \"people_fully_vaccinated_precent\"\n",
    "df = owid_df.copy()\n",
    "df[\"people_fully_vaccinated_percent\"] = df[\"people_fully_vaccinated\"] / df[\"population\"]\n",
    "\n",
    "# Listing out the variables that we want to use\n",
    "independent_column = [\"new_cases_smoothed\", \"people_fully_vaccinated_percent\", \"life_expectancy\", \"median_age\"] \n",
    "dependent_column = [\"new_deaths_smoothed\"]\n",
    "\n",
    "# Extract variables \n",
    "df = df.loc[:, [\"location\"] + independent_column + dependent_column]\n",
    "\n",
    "# Remove NAN rows and reset the index\n",
    "df = df.dropna().reset_index(drop=True)\n",
    "\n",
    "# Update the independent_column to include new variabloe\n",
    "df = df[[\"location\"] + independent_column + dependent_column]\n",
    "\n",
    "# Ensure that data is correct\n",
    "df"
   ]
  },
  {
   "cell_type": "markdown",
   "id": "d01de1a7",
   "metadata": {},
   "source": [
    "## MLR Iteration 1:\n",
    "\n",
    "A naive first iteration would be to use all the data points. We can use df_v1 to describe and also understand the data."
   ]
  },
  {
   "cell_type": "code",
   "execution_count": 910,
   "id": "2a2b148e",
   "metadata": {
    "scrolled": false
   },
   "outputs": [
    {
     "data": {
      "text/html": [
       "<div>\n",
       "<style scoped>\n",
       "    .dataframe tbody tr th:only-of-type {\n",
       "        vertical-align: middle;\n",
       "    }\n",
       "\n",
       "    .dataframe tbody tr th {\n",
       "        vertical-align: top;\n",
       "    }\n",
       "\n",
       "    .dataframe thead th {\n",
       "        text-align: right;\n",
       "    }\n",
       "</style>\n",
       "<table border=\"1\" class=\"dataframe\">\n",
       "  <thead>\n",
       "    <tr style=\"text-align: right;\">\n",
       "      <th></th>\n",
       "      <th>new_cases_smoothed</th>\n",
       "      <th>people_fully_vaccinated_percent</th>\n",
       "      <th>life_expectancy</th>\n",
       "      <th>median_age</th>\n",
       "      <th>new_deaths_smoothed</th>\n",
       "    </tr>\n",
       "  </thead>\n",
       "  <tbody>\n",
       "    <tr>\n",
       "      <th>count</th>\n",
       "      <td>21395.000000</td>\n",
       "      <td>2.139500e+04</td>\n",
       "      <td>21395.000000</td>\n",
       "      <td>21395.000000</td>\n",
       "      <td>21395.000000</td>\n",
       "    </tr>\n",
       "    <tr>\n",
       "      <th>mean</th>\n",
       "      <td>5689.506379</td>\n",
       "      <td>2.129662e-01</td>\n",
       "      <td>76.758685</td>\n",
       "      <td>35.585455</td>\n",
       "      <td>109.371997</td>\n",
       "    </tr>\n",
       "    <tr>\n",
       "      <th>std</th>\n",
       "      <td>19447.914099</td>\n",
       "      <td>2.225934e-01</td>\n",
       "      <td>5.611760</td>\n",
       "      <td>7.945997</td>\n",
       "      <td>327.071358</td>\n",
       "    </tr>\n",
       "    <tr>\n",
       "      <th>min</th>\n",
       "      <td>-6223.000000</td>\n",
       "      <td>2.300605e-08</td>\n",
       "      <td>53.280000</td>\n",
       "      <td>15.100000</td>\n",
       "      <td>-24.571000</td>\n",
       "    </tr>\n",
       "    <tr>\n",
       "      <th>25%</th>\n",
       "      <td>209.214500</td>\n",
       "      <td>2.544168e-02</td>\n",
       "      <td>74.080000</td>\n",
       "      <td>29.600000</td>\n",
       "      <td>2.286000</td>\n",
       "    </tr>\n",
       "    <tr>\n",
       "      <th>50%</th>\n",
       "      <td>957.714000</td>\n",
       "      <td>1.212404e-01</td>\n",
       "      <td>77.290000</td>\n",
       "      <td>37.900000</td>\n",
       "      <td>12.429000</td>\n",
       "    </tr>\n",
       "    <tr>\n",
       "      <th>75%</th>\n",
       "      <td>3441.642500</td>\n",
       "      <td>3.632498e-01</td>\n",
       "      <td>81.330000</td>\n",
       "      <td>42.700000</td>\n",
       "      <td>67.143000</td>\n",
       "    </tr>\n",
       "    <tr>\n",
       "      <th>max</th>\n",
       "      <td>391232.000000</td>\n",
       "      <td>8.681866e-01</td>\n",
       "      <td>84.860000</td>\n",
       "      <td>48.200000</td>\n",
       "      <td>4190.000000</td>\n",
       "    </tr>\n",
       "  </tbody>\n",
       "</table>\n",
       "</div>"
      ],
      "text/plain": [
       "       new_cases_smoothed  people_fully_vaccinated_percent  life_expectancy  \\\n",
       "count        21395.000000                     2.139500e+04     21395.000000   \n",
       "mean          5689.506379                     2.129662e-01        76.758685   \n",
       "std          19447.914099                     2.225934e-01         5.611760   \n",
       "min          -6223.000000                     2.300605e-08        53.280000   \n",
       "25%            209.214500                     2.544168e-02        74.080000   \n",
       "50%            957.714000                     1.212404e-01        77.290000   \n",
       "75%           3441.642500                     3.632498e-01        81.330000   \n",
       "max         391232.000000                     8.681866e-01        84.860000   \n",
       "\n",
       "         median_age  new_deaths_smoothed  \n",
       "count  21395.000000         21395.000000  \n",
       "mean      35.585455           109.371997  \n",
       "std        7.945997           327.071358  \n",
       "min       15.100000           -24.571000  \n",
       "25%       29.600000             2.286000  \n",
       "50%       37.900000            12.429000  \n",
       "75%       42.700000            67.143000  \n",
       "max       48.200000          4190.000000  "
      ]
     },
     "execution_count": 910,
     "metadata": {},
     "output_type": "execute_result"
    }
   ],
   "source": [
    "df_v1 = df.copy()\n",
    "df_v1.describe()"
   ]
  },
  {
   "cell_type": "code",
   "execution_count": 911,
   "id": "5feb4ecb",
   "metadata": {},
   "outputs": [
    {
     "name": "stdout",
     "output_type": "stream",
     "text": [
      "Constant: [109.37196552]\n",
      "new_cases_smoothed: [267.62678267]\n",
      "people_fully_vaccinated_percent: [-30.78356005]\n",
      "life_expectancy: [-2.72054914]\n",
      "median_age: [2.73794555]\n",
      "\n",
      "\n",
      "r2: 0.6844433108551549\n",
      "r2_adj: 0.6843695447395943\n",
      "RMSE: 183.72618622958\n",
      "Mean: 109.37199654124792\n"
     ]
    },
    {
     "data": {
      "image/png": "[encoded data removed]",
      "text/plain": [
       "<Figure size 432x288 with 1 Axes>"
      ]
     },
     "metadata": {
      "needs_background": "light"
     },
     "output_type": "display_data"
    }
   ],
   "source": [
    "df_independent_v1, df_dependent_v1 = get_independents_dependents(df_v1, independent_column, dependent_column)\n",
    "\n",
    "# Use the linear_regression function defined above to obtain beta & predicted\n",
    "beta_v1, pred_v1 = linear_regression(df_independent_v1, df_dependent_v1)"
   ]
  },
  {
   "cell_type": "markdown",
   "id": "bed3bd01",
   "metadata": {},
   "source": [
    "### Visualizing data & relationship (Iteration 1)\n",
    "\n",
    "We can plot each variable and see how the predicted linear data fits accordingly to the actual data. The function to simplify this code can be found in the prelude of this report."
   ]
  },
  {
   "cell_type": "code",
   "execution_count": 912,
   "id": "911267f3",
   "metadata": {},
   "outputs": [
    {
     "data": {
      "image/png": "[encoded data removed]",
      "text/plain": [
       "<Figure size 432x288 with 1 Axes>"
      ]
     },
     "metadata": {
      "needs_background": "light"
     },
     "output_type": "display_data"
    },
    {
     "data": {
      "image/png": "[encoded data removed]",
      "text/plain": [
       "<Figure size 432x288 with 1 Axes>"
      ]
     },
     "metadata": {
      "needs_background": "light"
     },
     "output_type": "display_data"
    },
    {
     "data": {
      "image/png": "[encoded data removed]",
      "text/plain": [
       "<Figure size 432x288 with 1 Axes>"
      ]
     },
     "metadata": {
      "needs_background": "light"
     },
     "output_type": "display_data"
    },
    {
     "data": {
      "image/png": "[encoded data removed]",
      "text/plain": [
       "<Figure size 432x288 with 1 Axes>"
      ]
     },
     "metadata": {
      "needs_background": "light"
     },
     "output_type": "display_data"
    }
   ],
   "source": [
    "plot_relationship(df_independent_v1, df_dependent_v1, pred_v1, dependent_column, independent_column)"
   ]
  },
  {
   "cell_type": "markdown",
   "id": "9707b21b",
   "metadata": {},
   "source": [
    "### Discussion of results (Iteration 1)\n",
    "\n",
    "Analyzing the data above, we can see that the actual values and predicted values are very similar, with a higher amount of predicted values and actual values being close to one another. However, there are still lapses in the calculation as the RMSE is significantly large compared to the mean. Furthermore, the r2 values are considered to be not so significant. \n",
    "\n",
    "As such, we proceed to Iteration 2 and try to identify issues with this model and improve it further."
   ]
  },
  {
   "cell_type": "markdown",
   "id": "a5c8e9fe",
   "metadata": {},
   "source": [
    "## MLR Iteration 2: \n",
    "Looking at the first iteration, we can identify a few issues. For example, some countries may have more data points than others. Therefore, countries with more data points will skew the data and cause it to be unbalanced. Thus, we take the mean for each country, and calculate the expected average death per day. "
   ]
  },
  {
   "cell_type": "code",
   "execution_count": 916,
   "id": "d1cb3826",
   "metadata": {},
   "outputs": [
    {
     "data": {
      "text/html": [
       "<div>\n",
       "<style scoped>\n",
       "    .dataframe tbody tr th:only-of-type {\n",
       "        vertical-align: middle;\n",
       "    }\n",
       "\n",
       "    .dataframe tbody tr th {\n",
       "        vertical-align: top;\n",
       "    }\n",
       "\n",
       "    .dataframe thead th {\n",
       "        text-align: right;\n",
       "    }\n",
       "</style>\n",
       "<table border=\"1\" class=\"dataframe\">\n",
       "  <thead>\n",
       "    <tr style=\"text-align: right;\">\n",
       "      <th></th>\n",
       "      <th>location</th>\n",
       "      <th>new_cases_smoothed</th>\n",
       "      <th>people_fully_vaccinated_percent</th>\n",
       "      <th>life_expectancy</th>\n",
       "      <th>median_age</th>\n",
       "      <th>new_deaths_smoothed</th>\n",
       "    </tr>\n",
       "  </thead>\n",
       "  <tbody>\n",
       "    <tr>\n",
       "      <th>0</th>\n",
       "      <td>Afghanistan</td>\n",
       "      <td>983.554588</td>\n",
       "      <td>0.004134</td>\n",
       "      <td>64.83</td>\n",
       "      <td>18.6</td>\n",
       "      <td>40.554529</td>\n",
       "    </tr>\n",
       "    <tr>\n",
       "      <th>1</th>\n",
       "      <td>Albania</td>\n",
       "      <td>328.915837</td>\n",
       "      <td>0.179307</td>\n",
       "      <td>78.57</td>\n",
       "      <td>38.0</td>\n",
       "      <td>3.132907</td>\n",
       "    </tr>\n",
       "    <tr>\n",
       "      <th>2</th>\n",
       "      <td>Algeria</td>\n",
       "      <td>423.381000</td>\n",
       "      <td>0.057959</td>\n",
       "      <td>76.88</td>\n",
       "      <td>29.1</td>\n",
       "      <td>25.381333</td>\n",
       "    </tr>\n",
       "    <tr>\n",
       "      <th>3</th>\n",
       "      <td>Angola</td>\n",
       "      <td>199.408143</td>\n",
       "      <td>0.020975</td>\n",
       "      <td>61.15</td>\n",
       "      <td>16.8</td>\n",
       "      <td>6.000036</td>\n",
       "    </tr>\n",
       "    <tr>\n",
       "      <th>4</th>\n",
       "      <td>Antigua and Barbuda</td>\n",
       "      <td>15.043411</td>\n",
       "      <td>0.302881</td>\n",
       "      <td>77.02</td>\n",
       "      <td>32.1</td>\n",
       "      <td>0.369929</td>\n",
       "    </tr>\n",
       "    <tr>\n",
       "      <th>...</th>\n",
       "      <td>...</td>\n",
       "      <td>...</td>\n",
       "      <td>...</td>\n",
       "      <td>...</td>\n",
       "      <td>...</td>\n",
       "      <td>...</td>\n",
       "    </tr>\n",
       "    <tr>\n",
       "      <th>175</th>\n",
       "      <td>Venezuela</td>\n",
       "      <td>1221.000000</td>\n",
       "      <td>0.093904</td>\n",
       "      <td>72.06</td>\n",
       "      <td>29.0</td>\n",
       "      <td>15.914300</td>\n",
       "    </tr>\n",
       "    <tr>\n",
       "      <th>176</th>\n",
       "      <td>Vietnam</td>\n",
       "      <td>5789.996095</td>\n",
       "      <td>0.037264</td>\n",
       "      <td>75.40</td>\n",
       "      <td>32.6</td>\n",
       "      <td>142.421762</td>\n",
       "    </tr>\n",
       "    <tr>\n",
       "      <th>177</th>\n",
       "      <td>Yemen</td>\n",
       "      <td>22.464250</td>\n",
       "      <td>0.000697</td>\n",
       "      <td>66.12</td>\n",
       "      <td>20.3</td>\n",
       "      <td>4.357000</td>\n",
       "    </tr>\n",
       "    <tr>\n",
       "      <th>178</th>\n",
       "      <td>Zambia</td>\n",
       "      <td>764.585571</td>\n",
       "      <td>0.010157</td>\n",
       "      <td>63.89</td>\n",
       "      <td>17.7</td>\n",
       "      <td>18.816341</td>\n",
       "    </tr>\n",
       "    <tr>\n",
       "      <th>179</th>\n",
       "      <td>Zimbabwe</td>\n",
       "      <td>417.738106</td>\n",
       "      <td>0.061991</td>\n",
       "      <td>61.49</td>\n",
       "      <td>19.6</td>\n",
       "      <td>13.757545</td>\n",
       "    </tr>\n",
       "  </tbody>\n",
       "</table>\n",
       "<p>180 rows × 6 columns</p>\n",
       "</div>"
      ],
      "text/plain": [
       "                location  new_cases_smoothed  people_fully_vaccinated_percent  \\\n",
       "0            Afghanistan          983.554588                         0.004134   \n",
       "1                Albania          328.915837                         0.179307   \n",
       "2                Algeria          423.381000                         0.057959   \n",
       "3                 Angola          199.408143                         0.020975   \n",
       "4    Antigua and Barbuda           15.043411                         0.302881   \n",
       "..                   ...                 ...                              ...   \n",
       "175            Venezuela         1221.000000                         0.093904   \n",
       "176              Vietnam         5789.996095                         0.037264   \n",
       "177                Yemen           22.464250                         0.000697   \n",
       "178               Zambia          764.585571                         0.010157   \n",
       "179             Zimbabwe          417.738106                         0.061991   \n",
       "\n",
       "     life_expectancy  median_age  new_deaths_smoothed  \n",
       "0              64.83        18.6            40.554529  \n",
       "1              78.57        38.0             3.132907  \n",
       "2              76.88        29.1            25.381333  \n",
       "3              61.15        16.8             6.000036  \n",
       "4              77.02        32.1             0.369929  \n",
       "..               ...         ...                  ...  \n",
       "175            72.06        29.0            15.914300  \n",
       "176            75.40        32.6           142.421762  \n",
       "177            66.12        20.3             4.357000  \n",
       "178            63.89        17.7            18.816341  \n",
       "179            61.49        19.6            13.757545  \n",
       "\n",
       "[180 rows x 6 columns]"
      ]
     },
     "metadata": {},
     "output_type": "display_data"
    },
    {
     "data": {
      "text/html": [
       "<div>\n",
       "<style scoped>\n",
       "    .dataframe tbody tr th:only-of-type {\n",
       "        vertical-align: middle;\n",
       "    }\n",
       "\n",
       "    .dataframe tbody tr th {\n",
       "        vertical-align: top;\n",
       "    }\n",
       "\n",
       "    .dataframe thead th {\n",
       "        text-align: right;\n",
       "    }\n",
       "</style>\n",
       "<table border=\"1\" class=\"dataframe\">\n",
       "  <thead>\n",
       "    <tr style=\"text-align: right;\">\n",
       "      <th></th>\n",
       "      <th>new_cases_smoothed</th>\n",
       "      <th>people_fully_vaccinated_percent</th>\n",
       "      <th>life_expectancy</th>\n",
       "      <th>median_age</th>\n",
       "      <th>new_deaths_smoothed</th>\n",
       "    </tr>\n",
       "  </thead>\n",
       "  <tbody>\n",
       "    <tr>\n",
       "      <th>count</th>\n",
       "      <td>180.000000</td>\n",
       "      <td>180.000000</td>\n",
       "      <td>180.000000</td>\n",
       "      <td>180.000000</td>\n",
       "      <td>180.000000</td>\n",
       "    </tr>\n",
       "    <tr>\n",
       "      <th>mean</th>\n",
       "      <td>3136.762106</td>\n",
       "      <td>0.152171</td>\n",
       "      <td>72.676667</td>\n",
       "      <td>30.332778</td>\n",
       "      <td>60.600925</td>\n",
       "    </tr>\n",
       "    <tr>\n",
       "      <th>std</th>\n",
       "      <td>10027.310007</td>\n",
       "      <td>0.144453</td>\n",
       "      <td>7.531430</td>\n",
       "      <td>9.140449</td>\n",
       "      <td>183.587448</td>\n",
       "    </tr>\n",
       "    <tr>\n",
       "      <th>min</th>\n",
       "      <td>0.000000</td>\n",
       "      <td>0.000184</td>\n",
       "      <td>53.280000</td>\n",
       "      <td>15.100000</td>\n",
       "      <td>0.000000</td>\n",
       "    </tr>\n",
       "    <tr>\n",
       "      <th>25%</th>\n",
       "      <td>73.681033</td>\n",
       "      <td>0.037695</td>\n",
       "      <td>67.235000</td>\n",
       "      <td>22.000000</td>\n",
       "      <td>0.960703</td>\n",
       "    </tr>\n",
       "    <tr>\n",
       "      <th>50%</th>\n",
       "      <td>525.409011</td>\n",
       "      <td>0.104488</td>\n",
       "      <td>74.065000</td>\n",
       "      <td>29.500000</td>\n",
       "      <td>7.541566</td>\n",
       "    </tr>\n",
       "    <tr>\n",
       "      <th>75%</th>\n",
       "      <td>1996.329837</td>\n",
       "      <td>0.246451</td>\n",
       "      <td>77.925000</td>\n",
       "      <td>38.700000</td>\n",
       "      <td>35.014640</td>\n",
       "    </tr>\n",
       "    <tr>\n",
       "      <th>max</th>\n",
       "      <td>89841.554467</td>\n",
       "      <td>0.739090</td>\n",
       "      <td>84.860000</td>\n",
       "      <td>48.200000</td>\n",
       "      <td>1488.183474</td>\n",
       "    </tr>\n",
       "  </tbody>\n",
       "</table>\n",
       "</div>"
      ],
      "text/plain": [
       "       new_cases_smoothed  people_fully_vaccinated_percent  life_expectancy  \\\n",
       "count          180.000000                       180.000000       180.000000   \n",
       "mean          3136.762106                         0.152171        72.676667   \n",
       "std          10027.310007                         0.144453         7.531430   \n",
       "min              0.000000                         0.000184        53.280000   \n",
       "25%             73.681033                         0.037695        67.235000   \n",
       "50%            525.409011                         0.104488        74.065000   \n",
       "75%           1996.329837                         0.246451        77.925000   \n",
       "max          89841.554467                         0.739090        84.860000   \n",
       "\n",
       "       median_age  new_deaths_smoothed  \n",
       "count  180.000000           180.000000  \n",
       "mean    30.332778            60.600925  \n",
       "std      9.140449           183.587448  \n",
       "min     15.100000             0.000000  \n",
       "25%     22.000000             0.960703  \n",
       "50%     29.500000             7.541566  \n",
       "75%     38.700000            35.014640  \n",
       "max     48.200000          1488.183474  "
      ]
     },
     "execution_count": 916,
     "metadata": {},
     "output_type": "execute_result"
    }
   ],
   "source": [
    "df_v2 = df.copy()\n",
    "unique_countries = df_v2[\"location\"].unique()\n",
    "df_mean = pd.DataFrame()\n",
    "\n",
    "# Obtain the mean for each country such that the data is balanced\n",
    "for country in unique_countries:\n",
    "    df_country = df_v2.loc[df_v2[\"location\"] == country, :]\n",
    "    df_country = df_country.mean(numeric_only=True).to_frame().transpose()\n",
    "    df_country.insert(0, \"location\", country)\n",
    "    df_mean = pd.concat([df_mean, df_country], axis = 0)\n",
    "\n",
    "df_v2 = df_mean.reset_index(drop=True)\n",
    "\n",
    "# Ensure that number of countries is still more than 20\n",
    "unique_countries = df_v2[\"location\"].unique()\n",
    "assert len(df_v2[\"location\"].unique()) >= 20\n",
    "\n",
    "# Ensure that data is correct\n",
    "display(df_v2)\n",
    "df_v2.describe()"
   ]
  },
  {
   "cell_type": "code",
   "execution_count": 917,
   "id": "4be4256f",
   "metadata": {},
   "outputs": [
    {
     "name": "stdout",
     "output_type": "stream",
     "text": [
      "Constant: [60.60090774]\n",
      "new_cases_smoothed: [165.77515094]\n",
      "people_fully_vaccinated_percent: [-11.0021875]\n",
      "life_expectancy: [0.68567561]\n",
      "median_age: [6.8165535]\n",
      "\n",
      "\n",
      "r2: 0.8199176122348083\n",
      "r2_adj: 0.8147428309771878\n",
      "RMSE: 77.69067027714529\n",
      "Mean: 60.60092492939104\n"
     ]
    },
    {
     "data": {
      "image/png": "[encoded data removed]",
      "text/plain": [
       "<Figure size 432x288 with 1 Axes>"
      ]
     },
     "metadata": {
      "needs_background": "light"
     },
     "output_type": "display_data"
    }
   ],
   "source": [
    "df_independent_v2, df_dependent_v2 = get_independents_dependents(df_v2, independent_column, dependent_column)\n",
    "\n",
    "# Use the linear_regression function defined above to obtain beta & predicted\n",
    "beta_v2, pred_v2 = linear_regression(df_independent_v2, df_dependent_v2)"
   ]
  },
  {
   "cell_type": "markdown",
   "id": "04338d22",
   "metadata": {},
   "source": [
    "### Visualizing data & relationship (Iteration 2)\n",
    "\n",
    "We can plot each variable and see how the predicted linear data fits accordingly to the actual data. The function to simplify this code can be found in the prelude of this report."
   ]
  },
  {
   "cell_type": "code",
   "execution_count": 918,
   "id": "ef50d2a9",
   "metadata": {},
   "outputs": [
    {
     "data": {
      "image/png": "[encoded data removed]",
      "text/plain": [
       "<Figure size 432x288 with 1 Axes>"
      ]
     },
     "metadata": {
      "needs_background": "light"
     },
     "output_type": "display_data"
    },
    {
     "data": {
      "image/png": "[encoded data removed]",
      "text/plain": [
       "<Figure size 432x288 with 1 Axes>"
      ]
     },
     "metadata": {
      "needs_background": "light"
     },
     "output_type": "display_data"
    },
    {
     "data": {
      "image/png": "[encoded data removed]",
      "text/plain": [
       "<Figure size 432x288 with 1 Axes>"
      ]
     },
     "metadata": {
      "needs_background": "light"
     },
     "output_type": "display_data"
    },
    {
     "data": {
      "image/png": "[encoded data removed]",
      "text/plain": [
       "<Figure size 432x288 with 1 Axes>"
      ]
     },
     "metadata": {
      "needs_background": "light"
     },
     "output_type": "display_data"
    }
   ],
   "source": [
    "plot_relationship(df_independent_v2, df_dependent_v2, pred_v2, dependent_column, independent_column)"
   ]
  },
  {
   "cell_type": "markdown",
   "id": "c7adb28b",
   "metadata": {},
   "source": [
    "## Discussion of results (Iteration 2)\n",
    "\n",
    "Comparing the 2 iterations, we can see that iteration 2 has more sparse data and it has less data points to work with. "
   ]
  },
  {
   "cell_type": "markdown",
   "id": "42b708de",
   "metadata": {},
   "source": [
    "## References\n",
    "\n",
    "Cini Oliveira, M., de Araujo Eleuterio, T., de Andrade Corrêa, A.B. et al. Factors associated with death in confirmed cases of COVID-19 in the state of Rio de Janeiro. BMC Infect Dis 21, 687 (2021). https://doi.org/10.1186/s12879-021-06384-1\n"
   ]
  },
  {
   "cell_type": "code",
   "execution_count": null,
   "id": "c73d0a03",
   "metadata": {},
   "outputs": [],
   "source": []
  }
 ],
 "metadata": {
  "kernelspec": {
   "display_name": "Python 3 (ipykernel)",
   "language": "python",
   "name": "python3"
  },
  "language_info": {
   "codemirror_mode": {
    "name": "ipython",
    "version": 3
   },
   "file_extension": ".py",
   "mimetype": "text/x-python",
   "name": "python",
   "nbconvert_exporter": "python",
   "pygments_lexer": "ipython3",
   "version": "3.9.9"
  }
 },
 "nbformat": 4,
 "nbformat_minor": 5
}
