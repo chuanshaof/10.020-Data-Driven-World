{
 "cells": [
  {
   "cell_type": "markdown",
   "id": "a3fa3c1d",
   "metadata": {},
   "source": [
    "### Requirements\n",
    "Import the below packages. If an error of \"module not found\" is shown, use the following commands in your command prompt or Windows Powershell\n",
    "\n",
    "- pip install numpy\n",
    "- pip install pandas\n",
    "- pip install matplotlib.pyplot\n",
    "- pip install seaborn"
   ]
  },
  {
   "cell_type": "code",
   "execution_count": 62,
   "id": "0b5f59b4",
   "metadata": {},
   "outputs": [],
   "source": [
    "import numpy as np\n",
    "import pandas as pd\n",
    "import matplotlib.pyplot as plt\n",
    "import seaborn as sns\n",
    "import math"
   ]
  },
  {
   "cell_type": "markdown",
   "id": "1f446f0f",
   "metadata": {},
   "source": [
    "The below code was adapted from Data Driven World problem sets. Comments are written to give an basic understand of what each function does."
   ]
  },
  {
   "cell_type": "code",
   "execution_count": 63,
   "id": "7eee5b2c",
   "metadata": {},
   "outputs": [],
   "source": [
    "# Apply Z-normalization on the data to change the data into a standard normal distribution\n",
    "def normalize_z(df):    \n",
    "    return (df - df.mean()) / df.std()\n",
    "\n",
    "# Scale all data from 0 to 1\n",
    "def normalize_minmax(dfin):\n",
    "    df_max =  dfin.max(axis = 0)\n",
    "    df_min = dfin.min(axis = 0)\n",
    "    dfout = (dfin - df_min) / (df_max - df_min)\n",
    "    return dfout\n",
    "\n",
    "# To split the DataFrame into its dependent and independent variables according to the country specified\n",
    "def get_independents_dependents(df, independent_names, dependent_names):\n",
    "    df_independent = df.loc[: , independent_names]\n",
    "    df_dependent = df.loc[: , dependent_names]\n",
    "    return df_independent, df_dependent\n",
    "\n",
    "# Add a 1 column on the left of the dataframe for constant and add change the dataframe into a numpy array\n",
    "def prepare_independent(df_independent):\n",
    "    left = np.ones((len(df_independent), 1))\n",
    "    np_independent = df_independent.to_numpy()\n",
    "    \n",
    "    # axis = 1 indicates to move it along the x axis or in the way of the columns\n",
    "    return np.concatenate((left, np_independent), axis=1)\n",
    "\n",
    "# Change dataframe into a numpy array\n",
    "def prepare_dependent(df_dependent):\n",
    "    return df_dependent.to_numpy()\n",
    "\n",
    "# Calculate and get predicted values\n",
    "def predict(df_independent, beta):\n",
    "    df_independent = normalize_z(df_independent)\n",
    "    df_independent = prepare_independent(df_independent)\n",
    "    return np.matmul(df_independent, beta)\n",
    "\n",
    "# Split the input data into training dataset and testing datasets\n",
    "def split_data(df_independent, df_dependent, random_state=None, test_size=0.5):\n",
    "    np.random.seed(random_state)\n",
    "\n",
    "    test_length = int(len(df_independent) * test_size)\n",
    "    independent = np.random.choice(len(df_independent), len(df_independent), replace=False)\n",
    "    \n",
    "    df_independent_test = df_independent.loc[independent[:test_length], :]\n",
    "    df_independent_train = df_independent.loc[independent[test_length:], :]    \n",
    "    df_dependent_test = df_dependent.loc[independent[:test_length], :]\n",
    "    df_dependent_train = df_dependent.loc[independent[test_length:], :]\n",
    "    \n",
    "    return df_independent_train, df_independent_test, df_dependent_train, df_dependent_test\n",
    "  \n",
    "# Calculate the r^2 score to see the fit of the model\n",
    "def r2_score(y, ypred):\n",
    "    if type(y) == pd.DataFrame:\n",
    "        y = y.to_numpy()\n",
    "        \n",
    "    if type(ypred) == pd.DataFrame:\n",
    "        ypred = ypred.to_numpy()\n",
    "        \n",
    "    ymean = np.mean(y)\n",
    "    ss_res = np.sum(np.matmul((y - ypred).T, (y - ypred)))\n",
    "    ss_tot = np.sum(np.matmul((y - ymean).T, (y - ymean)))\n",
    "    \n",
    "    return 1 - (ss_res / ss_tot)\n",
    "    pass\n",
    "\n",
    "# Calculate the mean squared error\n",
    "def root_mean_squared_error(dependent, pred):\n",
    "    if type(dependent) == pd.DataFrame:\n",
    "        dependent = dependent.to_numpy()\n",
    "        \n",
    "    if type(pred) == pd.DataFrame:\n",
    "        pred = pred.to_numpy()\n",
    "        \n",
    "    ss_res = np.sum(np.matmul((dependent - pred).T, (dependent - pred)))\n",
    "    \n",
    "    mse = 1 / len(dependent) * ss_res\n",
    "    return math.sqrt(mse)\n",
    "    pass\n",
    "\n",
    "# Used to calculate cost function\n",
    "def compute_cost(X, y, beta):\n",
    "    inner = np.matmul(X, beta) - y\n",
    "    J = (1 / (2 * len(X))) * np.matmul(inner.T, inner)\n",
    "    J = J[0][0]\n",
    "    return J\n",
    "\n",
    "# Using gradient descent to optimize the beta found\n",
    "def gradient_descent(X, y, beta, alpha, num_iters = 1500):\n",
    "    J_storage = compute_cost(X, y, beta)\n",
    "    \n",
    "    for _ in range(num_iters):\n",
    "        beta = beta - alpha / len(y) * np.matmul(X.T, np.matmul(X, beta) - y)\n",
    "        J_storage = np.append(J_storage, compute_cost(X, y, beta))\n",
    "        \n",
    "    return beta, J_storage\n",
    "\n",
    "def r2_adjusted(dependent, pred, beta):\n",
    "    r2 = r2_score(dependent, pred)\n",
    "    n = dependent.shape[0]\n",
    "    k = beta.shape[0]\n",
    "    r2_adj = 1 - (((1 - r2) * (n - 1)) / (n - k - 1))\n",
    "    return r2_adj"
   ]
  },
  {
   "cell_type": "markdown",
   "id": "bc839af5",
   "metadata": {},
   "source": [
    "### Determining predictor variables\n",
    "\n",
    "To begin, we start with online research to determine the useful predictors that we want to look for in our model.\n",
    "\n",
    "An important data that we require is the number of deaths, as it is what we want to measure.\n",
    "\n",
    "// insert useful research here\n",
    "\n",
    "### Finding data sets\n",
    "\n",
    "Through online searches, a comprehensive data set has been found from https://ourworldindata.org. \n",
    "\n",
    "To begin, we can  start by verifying that the data set has sufficient information and check the columns that it possesess to see if it satisfies our requirements.\n",
    "\n",
    "Data set source\n",
    "- owid_df: https://ourworldindata.org/covid-deaths"
   ]
  },
  {
   "cell_type": "code",
   "execution_count": 75,
   "id": "a48721d8",
   "metadata": {
    "scrolled": true
   },
   "outputs": [
    {
     "name": "stdout",
     "output_type": "stream",
     "text": [
      "Dataset shape: (126246, 65)\n",
      "Number of countries: 233 \n",
      "\n",
      "Index(['iso_code', 'continent', 'location', 'date', 'total_cases', 'new_cases',\n",
      "       'new_cases_smoothed', 'total_deaths', 'new_deaths',\n",
      "       'new_deaths_smoothed', 'total_cases_per_million',\n",
      "       'new_cases_per_million', 'new_cases_smoothed_per_million',\n",
      "       'total_deaths_per_million', 'new_deaths_per_million',\n",
      "       'new_deaths_smoothed_per_million', 'reproduction_rate', 'icu_patients',\n",
      "       'icu_patients_per_million', 'hosp_patients',\n",
      "       'hosp_patients_per_million', 'weekly_icu_admissions',\n",
      "       'weekly_icu_admissions_per_million', 'weekly_hosp_admissions',\n",
      "       'weekly_hosp_admissions_per_million', 'new_tests', 'total_tests',\n",
      "       'total_tests_per_thousand', 'new_tests_per_thousand',\n",
      "       'new_tests_smoothed', 'new_tests_smoothed_per_thousand',\n",
      "       'positive_rate', 'tests_per_case', 'tests_units', 'total_vaccinations',\n",
      "       'people_vaccinated', 'people_fully_vaccinated', 'total_boosters',\n",
      "       'new_vaccinations', 'new_vaccinations_smoothed',\n",
      "       'total_vaccinations_per_hundred', 'people_vaccinated_per_hundred',\n",
      "       'people_fully_vaccinated_per_hundred', 'total_boosters_per_hundred',\n",
      "       'new_vaccinations_smoothed_per_million', 'stringency_index',\n",
      "       'population', 'population_density', 'median_age', 'aged_65_older',\n",
      "       'aged_70_older', 'gdp_per_capita', 'extreme_poverty',\n",
      "       'cardiovasc_death_rate', 'diabetes_prevalence', 'female_smokers',\n",
      "       'male_smokers', 'handwashing_facilities', 'hospital_beds_per_thousand',\n",
      "       'life_expectancy', 'human_development_index',\n",
      "       'excess_mortality_cumulative_absolute', 'excess_mortality_cumulative',\n",
      "       'excess_mortality', 'excess_mortality_cumulative_per_million'],\n",
      "      dtype='object')\n"
     ]
    }
   ],
   "source": [
    "# Read the CSV file\n",
    "owid_df = pd.read_csv(\"covid-data.csv\")\n",
    "\n",
    "print(\"Dataset shape:\", owid_df.shape)\n",
    "print(\"Number of countries:\", len(pd.unique(owid_df[\"location\"])), \"\\n\")\n",
    "\n",
    "print(owid_df.columns)"
   ]
  },
  {
   "cell_type": "markdown",
   "id": "9253895e",
   "metadata": {},
   "source": [
    " ### Extracting variables & goals\n",
    "\n",
    "In this data set, we can see that there are smoothed and non-smoothed datas. Through online research, we would like to use the smoothed data as they are more complete and they have already been modified to remove noise and help us better identify patterns.\\\n",
    "https://www.investopedia.com/terms/d/data-smoothing.asp\n",
    "\n",
    "As can be seen from the above, we are going to single out the predictors that we want, namely\n",
    "- new_cases_smoothed\n",
    "- people_fully_vaccinated\n",
    "- population\n",
    "- population_density\n",
    "- life_expectancy\n",
    "- gdp_per_capita\n",
    "- median_age\n",
    "- human_development_index\n",
    "\n",
    "On top of the predictors, we also want to extract the dependent variable, namely\n",
    "- new_deaths_smoothed\n",
    "\n",
    "For our goal, we want to explore and find a general beta for all countries as long as we have the above information"
   ]
  },
  {
   "cell_type": "markdown",
   "id": "a5c8e9fe",
   "metadata": {},
   "source": [
    "### Iterations\n",
    "\n",
    "Version 1: Filling up NAN data with previous missing data and then filling NAN data up with 0.\\\n",
    "Version 2: Dropping NAN data.\n",
    "\n",
    "#### Validity check\n",
    "The below code also verifies that we utilize the variables that we have sufficient information on. The preset criteria is for there to have more than 10,000 availiable data. From our predictor variables, we want to extract the desired columns into a new dataframe and also check if the countries required exceeds 20. At the bottom of the code, we throw an error to ensure that we have the correct data that we desire."
   ]
  },
  {
   "cell_type": "code",
   "execution_count": 100,
   "id": "2a2b148e",
   "metadata": {
    "scrolled": false
   },
   "outputs": [],
   "source": [
    "independent_column = [\"new_cases_smoothed\", \"people_fully_vaccinated\", \"population\", \"human_development_index\",\n",
    "                   \"population_density\", \"life_expectancy\", \"gdp_per_capita\", \"median_age\"]\n",
    "\n",
    "dependent_column = [\"new_deaths_smoothed\"]\n",
    "\n",
    "df = owid_df[[\"location\"] + independent_column + dependent_column]\n",
    "\n",
    "# Change the version to the version desired\n",
    "version = 2\n",
    "        \n",
    "if version == 1:\n",
    "    # Fill data with previous data and then 0s\n",
    "    df = df.ffill().fillna(0).reset_index(drop=True)\n",
    "\n",
    "elif version == 2:\n",
    "    # Drop na data and reset index\n",
    "    df = df.dropna().reset_index(drop=True)\n",
    "        \n",
    "minimum_data = 10000\n",
    "if df.shape[0] < minimum_data:\n",
    "    raise Exception(f\"Dataset size is less than {minimum_data}.\")\n",
    "\n",
    "unique_countries = df[\"location\"].unique()\n",
    "if len(unique_countries) < 20:\n",
    "    raise Exception(f\"Countries are less than 20.\")"
   ]
  },
  {
   "cell_type": "code",
   "execution_count": 101,
   "id": "ffc3a248",
   "metadata": {},
   "outputs": [
    {
     "name": "stdout",
     "output_type": "stream",
     "text": [
      "[[ 257.5066551 ]\n",
      " [ 726.10919873]\n",
      " [-185.07575186]\n",
      " [ 673.10428441]\n",
      " [  42.36866387]\n",
      " [  -8.65858717]\n",
      " [ -12.48641446]\n",
      " [ -16.75737032]\n",
      " [  -9.366768  ]]\n",
      "R^2: 0.9631616340800275\n",
      "RMSE: 235.67943429712267\n",
      "Mean: 251.06843883434627\n",
      "r2_adj: 0.9631098867266203\n"
     ]
    }
   ],
   "source": [
    "df_independent, df_dependent = get_independents_dependents(df, independent_column, dependent_column)\n",
    "\n",
    "# Split the data set into training and test\n",
    "df_independents_train, df_independents_test, df_dependent_train, df_dependent_test = split_data(df_independent, df_dependent, 100, 0.3)\n",
    "\n",
    "# Normalize the independents using z normalization\n",
    "df_independents_train_z = normalize_z(df_independents_train)\n",
    "\n",
    "# Change the independents and the dependent to numpy array using the prepare functions\n",
    "X = prepare_independent(df_independents_train_z)\n",
    "\n",
    "dependent = prepare_dependent(df_dependent_train)\n",
    "\n",
    "iterations = 1500\n",
    "alpha = 0.01\n",
    "beta = np.zeros((len(independent_column) + 1, 1))\n",
    "\n",
    "# Call the gradient_descent function\n",
    "beta, J_storage = gradient_descent(X, dependent, beta, alpha, iterations)\n",
    "\n",
    "# call the predict() method\n",
    "pred = predict(df_independents_test, beta)\n",
    "\n",
    "print(beta)\n",
    "\n",
    "# change dependent test set to a numpy array\n",
    "dependent = prepare_dependent(df_dependent_test)\n",
    "\n",
    "# Calculate r2 score by calling a function\n",
    "r2 = r2_score(dependent, pred)\n",
    "\n",
    "print(\"R^2:\", r2)\n",
    "\n",
    "# Calculate the mse\n",
    "rmse = root_mean_squared_error(dependent, pred)\n",
    "\n",
    "print(\"RMSE:\", rmse)\n",
    "print(\"Mean:\", float(df_dependent_test.mean()))\n",
    "\n",
    "r2_adj = r2_adjusted(dependent, pred, beta)\n",
    "print(\"r2_adj:\", r2_adj)"
   ]
  },
  {
   "cell_type": "code",
   "execution_count": 106,
   "id": "02ed9d1d",
   "metadata": {},
   "outputs": [
    {
     "name": "stdout",
     "output_type": "stream",
     "text": [
      "1227.9240579908464\n"
     ]
    }
   ],
   "source": [
    "print(dependent.std())"
   ]
  },
  {
   "cell_type": "code",
   "execution_count": 102,
   "id": "48149d9f",
   "metadata": {},
   "outputs": [
    {
     "data": {
      "text/plain": [
       "[<matplotlib.lines.Line2D at 0x1b3571eaa30>]"
      ]
     },
     "execution_count": 102,
     "metadata": {},
     "output_type": "execute_result"
    },
    {
     "data": {
      "image/png": "[encoded data removed]",
      "text/plain": [
       "<Figure size 432x288 with 1 Axes>"
      ]
     },
     "metadata": {
      "needs_background": "light"
     },
     "output_type": "display_data"
    }
   ],
   "source": [
    "plt.plot(J_storage)"
   ]
  },
  {
   "cell_type": "code",
   "execution_count": 103,
   "id": "911267f3",
   "metadata": {},
   "outputs": [
    {
     "data": {
      "text/plain": [
       "<matplotlib.collections.PathCollection at 0x1b357245f40>"
      ]
     },
     "execution_count": 103,
     "metadata": {},
     "output_type": "execute_result"
    },
    {
     "data": {
      "image/png": "[encoded data removed]",
      "text/plain": [
       "<Figure size 432x288 with 1 Axes>"
      ]
     },
     "metadata": {
      "needs_background": "light"
     },
     "output_type": "display_data"
    }
   ],
   "source": [
    "plt.scatter(df_independents_test[\"new_cases_smoothed\"], df_dependent_test)\n",
    "plt.scatter(df_independents_test[\"new_cases_smoothed\"], pred)"
   ]
  },
  {
   "cell_type": "code",
   "execution_count": null,
   "id": "114c785e",
   "metadata": {},
   "outputs": [],
   "source": []
  },
  {
   "cell_type": "code",
   "execution_count": null,
   "id": "e5860011",
   "metadata": {},
   "outputs": [],
   "source": []
  }
 ],
 "metadata": {
  "kernelspec": {
   "display_name": "Python 3 (ipykernel)",
   "language": "python",
   "name": "python3"
  },
  "language_info": {
   "codemirror_mode": {
    "name": "ipython",
    "version": 3
   },
   "file_extension": ".py",
   "mimetype": "text/x-python",
   "name": "python",
   "nbconvert_exporter": "python",
   "pygments_lexer": "ipython3",
   "version": "3.9.8"
  }
 },
 "nbformat": 4,
 "nbformat_minor": 5
}
