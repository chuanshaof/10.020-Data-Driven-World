{
 "cells": [
  {
   "cell_type": "markdown",
   "metadata": {
    "deletable": false,
    "editable": false,
    "nbgrader": {
     "grade": false,
     "locked": true,
     "solution": false
    }
   },
   "source": [
    "# Week 5 Problem Set\n",
    "\n",
    "## Homework"
   ]
  },
  {
   "cell_type": "markdown",
   "metadata": {
    "colab_type": "text",
    "deletable": false,
    "editable": false,
    "id": "9j25r7SUvPnV",
    "nbgrader": {
     "grade": false,
     "locked": true,
     "solution": false
    }
   },
   "source": [
    "**HW1.** *Dictionary:* Write two functions:\n",
    "1. `count_degrees(G)`: which sums up the degrees of all vertices in the graph. The degree of a vertex is defined as the number of edges connected to a Vertex. The argument `G` is a dictionary that represents the graph.\n",
    "2. `count_edges(G)`: which counts the number of edges in the graph. An edge is defined as a connection between two vertices. The argument `G` is a dictionary."
   ]
  },
  {
   "cell_type": "code",
   "execution_count": 1,
   "metadata": {
    "colab": [],
    "colab_type": "code",
    "collapsed": true,
    "id": "v7t7of_0vQkI"
   },
   "outputs": [],
   "source": [
    "def count_degrees(G):\n",
    "    degrees = 0\n",
    "    for vertex in G:\n",
    "        degrees += len(G[vertex])\n",
    "        \n",
    "    return degrees\n",
    "    pass\n",
    "\n",
    "def count_edges(G):\n",
    "    return (count_degrees(G) / 2)\n",
    "    pass"
   ]
  },
  {
   "cell_type": "code",
   "execution_count": 2,
   "metadata": {
    "colab": [],
    "colab_type": "code",
    "collapsed": true,
    "deletable": false,
    "editable": false,
    "id": "Kil-jfkGRCnJ",
    "nbgrader": {
     "grade": true,
     "grade_id": "hw11",
     "locked": true,
     "points": "1",
     "solution": false
    }
   },
   "outputs": [],
   "source": [
    "g1 = {\"A\": [\"B\", \"E\"],\n",
    "      \"B\": [\"A\", \"C\"],\n",
    "      \"C\": [\"B\", \"D\", \"E\"],\n",
    "      \"D\": [\"C\"],\n",
    "      \"E\": [\"A\", \"C\"]}\n",
    "\n",
    "d = count_degrees(g1)\n",
    "e = count_edges(g1)\n",
    "\n",
    "assert d == 10\n",
    "assert e == 5"
   ]
  },
  {
   "cell_type": "code",
   "execution_count": 3,
   "metadata": {
    "collapsed": true,
    "deletable": false,
    "editable": false,
    "nbgrader": {
     "grade": true,
     "grade_id": "hw12",
     "locked": true,
     "points": "1",
     "solution": false
    }
   },
   "outputs": [],
   "source": [
    "###\n",
    "### AUTOGRADER TEST - DO NOT REMOVE\n",
    "###\n"
   ]
  },
  {
   "cell_type": "markdown",
   "metadata": {
    "deletable": false,
    "editable": false,
    "nbgrader": {
     "grade": false,
     "locked": true,
     "solution": false
    }
   },
   "source": [
    "**HW2.** Create a class called `GraphSearch` which is a subclass of the class `Graph`. This class should override the method `_create_vertex(id)` and instantiate a `VertexSearch` object instead of `Vertex`."
   ]
  },
  {
   "cell_type": "code",
   "execution_count": 4,
   "metadata": {
    "collapsed": true
   },
   "outputs": [],
   "source": [
    "# Copy Vertex class from Cohort\n",
    "class Vertex:\n",
    "    def __init__(self, id=\"\"):\n",
    "        self.id = id\n",
    "        self.neighbours = {}\n",
    "    \n",
    "    def add_neighbour(self, nbr_vertex, weight=0):\n",
    "        self.neighbours[nbr_vertex] = weight\n",
    "        pass\n",
    "    \n",
    "    def get_neighbours(self):\n",
    "        return list(self.neighbours.keys())\n",
    "        pass\n",
    "    \n",
    "    def get_weight(self, neighbour):\n",
    "        if neighbour not in self.neighbours.keys():\n",
    "            return None\n",
    "        else:\n",
    "            return self.neighbours[neighbour]\n",
    "        pass\n",
    "    \n",
    "    def __eq__(self, other):\n",
    "        return self.id == other.id\n",
    "        pass\n",
    "    \n",
    "    def __lt__(self, other):\n",
    "        return self.id < other.id\n",
    "        pass\n",
    "    \n",
    "    def __hash__(self):\n",
    "        return hash(self.id)\n",
    "        pass\n",
    "    \n",
    "    def __str__(self):\n",
    "        neighbours = ', '.join(neighbour.id for neighbour in self.get_neighbours())\n",
    "        return f\"Vertex {self.id} is connected to: {neighbours}\"\n",
    "        pass"
   ]
  },
  {
   "cell_type": "code",
   "execution_count": 27,
   "metadata": {
    "collapsed": true
   },
   "outputs": [],
   "source": [
    "# Copy VertexSearch class from Cohort\n",
    "\n",
    "import sys\n",
    "\n",
    "class VertexSearch(Vertex):\n",
    "    def __init__(self, id=\"\"):\n",
    "        super().__init__(id)\n",
    "        self.colour = \"white\"\n",
    "        self.d = sys.maxsize\n",
    "        self.f = sys.maxsize\n",
    "        self.parent = None"
   ]
  },
  {
   "cell_type": "code",
   "execution_count": 28,
   "metadata": {
    "collapsed": true
   },
   "outputs": [],
   "source": [
    "#Copy Graph over from Cohort\n",
    "class Graph:\n",
    "    def __init__(self):\n",
    "        self.vertices = {}\n",
    "        \n",
    "    def _create_vertex(self, id):\n",
    "        return Vertex(id)\n",
    "        pass\n",
    "    \n",
    "    def add_vertex(self, id):\n",
    "        self.vertices[id] = self._create_vertex(id)\n",
    "        pass\n",
    "    \n",
    "    def get_vertex(self, id):\n",
    "        try:\n",
    "            return self.vertices[id]\n",
    "        except:\n",
    "            return None\n",
    "        pass\n",
    "    \n",
    "    def add_edge(self, start_v, end_v, weight=0):\n",
    "        self.vertices[start_v].add_neighbour(end_v, weight)\n",
    "        pass\n",
    "    \n",
    "    def get_neighbours(self, id):\n",
    "        return self.vertices[id].get_neighbours()\n",
    "        pass\n",
    "    \n",
    "    def __contains__(self, val):\n",
    "        return val in self.vertices.keys()\n",
    "        pass\n",
    "    \n",
    "    def __iter__(self):\n",
    "        for k,v in self.vertices.items():\n",
    "            yield v \n",
    "        \n",
    "    @property\n",
    "    def num_vertices(self):\n",
    "        return len(self.vertices.keys())"
   ]
  },
  {
   "cell_type": "code",
   "execution_count": 29,
   "metadata": {
    "collapsed": true
   },
   "outputs": [],
   "source": [
    "class GraphSearch(Graph):\n",
    "    def _create_vertex(self, id):\n",
    "        return VertexSearch(id)\n",
    "    pass"
   ]
  },
  {
   "cell_type": "code",
   "execution_count": 30,
   "metadata": {
    "collapsed": true,
    "deletable": false,
    "editable": false,
    "nbgrader": {
     "grade": true,
     "grade_id": "hw21",
     "locked": true,
     "points": "1",
     "solution": false
    }
   },
   "outputs": [],
   "source": [
    "g2 = GraphSearch()\n",
    "g2.add_vertex(\"Z\")\n",
    "assert(type(g2.vertices[\"Z\"]) == type(VertexSearch()))"
   ]
  },
  {
   "cell_type": "code",
   "execution_count": 31,
   "metadata": {
    "collapsed": true,
    "deletable": false,
    "editable": false,
    "nbgrader": {
     "grade": true,
     "grade_id": "hw22",
     "locked": true,
     "points": "1",
     "solution": false
    }
   },
   "outputs": [],
   "source": [
    "###\n",
    "### AUTOGRADER TEST - DO NOT REMOVE\n",
    "###\n"
   ]
  },
  {
   "cell_type": "markdown",
   "metadata": {
    "colab_type": "text",
    "deletable": false,
    "editable": false,
    "id": "W_WeKdlDSN_k",
    "nbgrader": {
     "grade": false,
     "locked": true,
     "solution": false
    }
   },
   "source": [
    "**HW3.** *Undirected Graph:* **You need to complete CS5 and CS6 before you do this homework.** Paste your answer for `Search2D` and `SearchBFS` classes into the cell below.\n",
    "\n",
    "Create a subclass of `GraphSearch` class called `UGraphSearch` for undirected graphs. All edges in undirected graphs are bidirectional (i.e. vertex1 <-> vertex2). \n",
    "This means that you need to override the `add_edge()` method."
   ]
  },
  {
   "cell_type": "code",
   "execution_count": 32,
   "metadata": {
    "collapsed": true
   },
   "outputs": [],
   "source": [
    "#Copy over Queue from Wk4 HMWK\n",
    "class Queue:\n",
    "    def __init__(self):\n",
    "        self.__items = []\n",
    "    \n",
    "    def enqueue(self, item):\n",
    "        self.__items.append(item)\n",
    "        pass\n",
    "    \n",
    "    def dequeue(self):\n",
    "        if self.__items == []:\n",
    "            return None\n",
    "        else:\n",
    "            return self.__items.pop(0)\n",
    "        pass\n",
    "    \n",
    "    def peek(self):\n",
    "        if self.is_empty == True:\n",
    "            return None\n",
    "        else:\n",
    "            return self.__items[0]\n",
    "        pass\n",
    "    \n",
    "    @property\n",
    "    def is_empty(self):\n",
    "        return self.__items == []\n",
    "    \n",
    "    @property\n",
    "    def size(self):\n",
    "        return len(self.__items)\n",
    "        pass"
   ]
  },
  {
   "cell_type": "code",
   "execution_count": 33,
   "metadata": {
    "collapsed": true
   },
   "outputs": [],
   "source": [
    "import sys\n",
    "\n",
    "class Search2D:\n",
    "    def __init__(self, g):\n",
    "        self.graph = g\n",
    "    \n",
    "    def clear_vertices(self):\n",
    "        for vertex in self.graph.vertices.values():\n",
    "            vertex.colour = \"white\"\n",
    "            vertex.d = sys.maxsize\n",
    "            vertex.f = sys.maxsize\n",
    "            vertex.parent = None\n",
    "        pass\n",
    "    \n",
    "    def __iter__(self):\n",
    "        return iter([v for v in self.graph])\n",
    "    \n",
    "    def __len__(self):\n",
    "        return len([v for v in self.graph.vertices])"
   ]
  },
  {
   "cell_type": "code",
   "execution_count": 92,
   "metadata": {},
   "outputs": [],
   "source": [
    "class SearchBFS(Search2D):\n",
    "\n",
    "    def search_from(self, start):\n",
    "        # Clear previous data\n",
    "        self.clear_vertices()\n",
    "        queue = Queue()\n",
    "        vertices = self.graph.vertices\n",
    "        \n",
    "        # Change start\n",
    "        vertices[start].d = 0\n",
    "        vertices[start].colour = \"gray\"\n",
    "        vertices[start].parent = None\n",
    "        \n",
    "        queue.enqueue(vertices[start])\n",
    "        \n",
    "        while not queue.is_empty:\n",
    "            u = queue.dequeue()\n",
    "            for neighbour in u.get_neighbours():\n",
    "                if vertices[neighbour].colour == \"white\":\n",
    "                    vertices[neighbour].colour = \"gray\"\n",
    "                    vertices[neighbour].d = u.d + 1\n",
    "                    vertices[neighbour].parent = u\n",
    "                    queue.enqueue(vertices[neighbour])\n",
    "            u.colour = \"black\"\n",
    "        pass\n",
    "    \n",
    "    def get_shortest_path(self, start, dest):\n",
    "        try:\n",
    "            self.search_from(start)\n",
    "        except:\n",
    "            return None\n",
    "              \n",
    "        try:\n",
    "            if self.graph.vertices[dest].parent == None:\n",
    "                return [\"No Path\"]\n",
    "        except:\n",
    "            pass\n",
    "        \n",
    "        return self.get_path(self.graph.vertices[start], self.graph.vertices[dest], [])\n",
    "    \n",
    "    def get_path(self, start, dest, result):\n",
    "        if start == dest:\n",
    "            return [start.id]\n",
    "        else:\n",
    "            return self.get_path(start, dest.parent, []) + [dest.id]"
   ]
  },
  {
   "cell_type": "code",
   "execution_count": 93,
   "metadata": {
    "colab": [],
    "colab_type": "code",
    "collapsed": true,
    "id": "_8Tm0u1rSUSr"
   },
   "outputs": [],
   "source": [
    "class UGraphSearch(GraphSearch):\n",
    "    def add_edge(self, start_v, end_v, weight=0):\n",
    "        self.vertices[start_v].add_neighbour(end_v, weight)\n",
    "        self.vertices[end_v].add_neighbour(start_v, weight)\n",
    "        pass"
   ]
  },
  {
   "cell_type": "code",
   "execution_count": 94,
   "metadata": {
    "colab": [],
    "colab_type": "code",
    "deletable": false,
    "editable": false,
    "id": "sqoDWngtS0hu",
    "nbgrader": {
     "grade": true,
     "grade_id": "hw31",
     "locked": true,
     "points": "1",
     "solution": false
    }
   },
   "outputs": [],
   "source": [
    "g2 = UGraphSearch()\n",
    "assert g2.vertices == {} and g2.num_vertices == 0\n",
    "g2.add_vertex(\"L\")\n",
    "g2.add_vertex(\"I\")\n",
    "g2.add_vertex(\"S\")\n",
    "g2.add_vertex(\"P\")\n",
    "assert g2.num_vertices == 4\n",
    "assert \"L\" in g2\n",
    "assert \"I\" in g2\n",
    "assert \"S\" in g2\n",
    "assert \"P\" in g2\n",
    "g2.add_edge(\"L\", \"I\")\n",
    "g2.add_edge(\"I\", \"S\")\n",
    "g2.add_edge(\"S\", \"P\")\n",
    "assert sorted(g2.get_neighbours(\"L\")) == [\"I\"]\n",
    "assert sorted(g2.get_neighbours(\"I\")) == [\"L\", \"S\"]\n",
    "assert sorted(g2.get_neighbours(\"S\")) == [\"I\", \"P\"]\n",
    "assert sorted(g2.get_neighbours(\"P\")) == [\"S\"]"
   ]
  },
  {
   "cell_type": "code",
   "execution_count": 95,
   "metadata": {
    "collapsed": true,
    "deletable": false,
    "editable": false,
    "nbgrader": {
     "grade": true,
     "grade_id": "hw32",
     "locked": true,
     "points": "1",
     "solution": false
    }
   },
   "outputs": [],
   "source": [
    "###\n",
    "### AUTOGRADER TEST - DO NOT REMOVE\n",
    "###\n"
   ]
  },
  {
   "cell_type": "code",
   "execution_count": 96,
   "metadata": {
    "colab": [],
    "colab_type": "code",
    "deletable": false,
    "editable": false,
    "id": "ZibyOISBseeI",
    "nbgrader": {
     "grade": true,
     "grade_id": "hw33",
     "locked": true,
     "points": "1",
     "solution": false
    }
   },
   "outputs": [],
   "source": [
    "g2 = UGraphSearch()\n",
    "g2.add_vertex(\"r\")\n",
    "g2.add_vertex(\"s\")\n",
    "g2.add_vertex(\"t\")\n",
    "g2.add_vertex(\"u\")\n",
    "g2.add_vertex(\"v\")\n",
    "g2.add_vertex(\"w\")\n",
    "g2.add_vertex(\"x\")\n",
    "g2.add_vertex(\"y\")\n",
    "g2.add_vertex(\"z\")\n",
    "g2.add_edge(\"r\", \"s\")\n",
    "g2.add_edge(\"r\", \"v\")\n",
    "g2.add_edge(\"s\", \"w\")\n",
    "g2.add_edge(\"t\", \"u\")\n",
    "g2.add_edge(\"t\", \"x\")\n",
    "g2.add_edge(\"t\", \"w\")\n",
    "g2.add_edge(\"u\", \"t\")\n",
    "g2.add_edge(\"u\", \"x\")\n",
    "g2.add_edge(\"u\", \"y\")\n",
    "g2.add_edge(\"v\", \"r\")\n",
    "g2.add_edge(\"w\", \"s\")\n",
    "g2.add_edge(\"w\", \"t\")\n",
    "g2.add_edge(\"w\", \"x\")\n",
    "g2.add_edge(\"x\", \"w\")\n",
    "g2.add_edge(\"x\", \"t\")\n",
    "g2.add_edge(\"x\", \"u\")\n",
    "g2.add_edge(\"x\", \"y\")\n",
    "g2.add_edge(\"y\", \"u\")\n",
    "g2.add_edge(\"y\", \"x\")\n",
    "gs = SearchBFS(g2)\n",
    "gs.search_from(\"s\")\n",
    "assert gs.graph.get_vertex(\"s\").d == 0\n",
    "assert gs.graph.get_vertex(\"t\").d == 2\n",
    "assert gs.graph.get_vertex(\"u\").d == 3\n",
    "assert gs.graph.get_vertex(\"v\").d == 2\n",
    "assert gs.graph.get_vertex(\"w\").d == 1\n",
    "assert gs.graph.get_vertex(\"x\").d == 2\n",
    "assert gs.graph.get_vertex(\"y\").d == 3\n",
    "assert gs.graph.get_vertex(\"r\").d == 1\n",
    "ans = gs.get_shortest_path(\"s\", \"u\")\n",
    "assert ans == [\"s\", \"w\", \"t\", \"u\"] or ans == [\"s\", \"w\", \"x\", \"u\"]\n",
    "ans = gs.get_shortest_path(\"v\", \"s\")\n",
    "assert ans == [\"v\", \"r\", \"s\"]\n",
    "ans = gs.get_shortest_path(\"v\", \"y\")\n",
    "assert ans == [\"v\", \"r\", \"s\", \"w\", \"x\", \"y\"]"
   ]
  },
  {
   "cell_type": "code",
   "execution_count": 97,
   "metadata": {
    "collapsed": true,
    "deletable": false,
    "editable": false,
    "nbgrader": {
     "grade": true,
     "grade_id": "hw34",
     "locked": true,
     "points": "1",
     "solution": false
    }
   },
   "outputs": [],
   "source": [
    "###\n",
    "### AUTOGRADER TEST - DO NOT REMOVE\n",
    "###\n"
   ]
  },
  {
   "cell_type": "markdown",
   "metadata": {
    "colab_type": "text",
    "deletable": false,
    "editable": false,
    "id": "wBuZB4CLY2hM",
    "nbgrader": {
     "grade": false,
     "locked": true,
     "solution": false
    }
   },
   "source": [
    "**HW4.** *Depth-First-Search:* Create a class `SearchDFS` as a child class of `Search2D` to implement Depth-First-Search algorithm. You should add one additional attribute:\n",
    "- `time`: which is a static property to record the discovery time and the finishing time.\n",
    "\n",
    "The class should also implement the following methods:\n",
    "- `search()`: which modifies the vertices' properties such as `colour`, `d`, and `parent` following Depth-First-Search algorithm.\n",
    "- `dfs_visit(vert)`: which is the recursive method for visiting a vertex in Depth-First-Search algorithm."
   ]
  },
  {
   "cell_type": "code",
   "execution_count": 152,
   "metadata": {
    "colab": [],
    "colab_type": "code",
    "id": "xJ4GTlWNUYHT"
   },
   "outputs": [],
   "source": [
    "import sys\n",
    "\n",
    "class SearchDFS(Search2D):\n",
    "    def __init__(self, g):\n",
    "        self.graph = g\n",
    "        self.time = 0\n",
    "      \n",
    "    def search(self):\n",
    "        self.clear_vertices()\n",
    "        self.time = 0\n",
    "        \n",
    "        vertices = self.graph.vertices\n",
    "        for vertex in vertices.values():\n",
    "            if vertex.colour == \"white\":\n",
    "                self.dfs_visit(vertex)\n",
    "    \n",
    "    def dfs_visit(self, vert):\n",
    "        self.time += 1\n",
    "        vert.d = self.time\n",
    "        vert.colour = \"gray\"\n",
    "        vertices = self.graph.vertices\n",
    "        \n",
    "        neighbours = vert.get_neighbours()\n",
    "        \n",
    "        for neighbour in neighbours:\n",
    "            if vertices[neighbour].colour == \"white\":\n",
    "                vertices[neighbour].parent = vert\n",
    "                self.dfs_visit(vertices[neighbour])\n",
    "            \n",
    "        vert.colour = \"black\"\n",
    "        self.time += 1\n",
    "        vert.f = self.time\n",
    "        pass"
   ]
  },
  {
   "cell_type": "code",
   "execution_count": 153,
   "metadata": {
    "colab": [],
    "colab_type": "code",
    "deletable": false,
    "editable": false,
    "id": "U09_8Sr7alja",
    "nbgrader": {
     "grade": true,
     "grade_id": "hw41",
     "locked": true,
     "points": "1",
     "solution": false
    }
   },
   "outputs": [],
   "source": [
    "g4 = GraphSearch()\n",
    "g4.add_vertex(\"e\")\n",
    "g4.add_vertex(\"m\")\n",
    "g4.add_vertex(\"a\")\n",
    "g4.add_vertex(\"c\")\n",
    "g4.add_vertex(\"s\")\n",
    "g4.add_edge(\"e\", \"m\")\n",
    "g4.add_edge(\"m\", \"a\")\n",
    "g4.add_edge(\"a\", \"c\")\n",
    "g4.add_edge(\"c\", \"s\")\n",
    "gs = SearchDFS(g4)\n",
    "gs.search()\n",
    "assert gs.graph.get_vertex(\"e\").parent == None \n",
    "assert gs.graph.get_vertex(\"m\").parent == gs.graph.get_vertex(\"e\")\n",
    "\n",
    "assert gs.graph.get_vertex(\"m\").d == 2 and gs.graph.get_vertex(\"a\").f == 8\n",
    "assert gs.graph.get_vertex(\"c\").d == 4 and gs.graph.get_vertex(\"s\").f == 6"
   ]
  },
  {
   "cell_type": "code",
   "execution_count": 154,
   "metadata": {
    "collapsed": true,
    "deletable": false,
    "editable": false,
    "nbgrader": {
     "grade": true,
     "grade_id": "hw42",
     "locked": true,
     "points": "1",
     "solution": false
    }
   },
   "outputs": [],
   "source": [
    "###\n",
    "### AUTOGRADER TEST - DO NOT REMOVE\n",
    "###\n"
   ]
  },
  {
   "cell_type": "markdown",
   "metadata": {
    "colab_type": "text",
    "deletable": false,
    "editable": false,
    "id": "DE7cWgQkbu6b",
    "nbgrader": {
     "grade": false,
     "locked": true,
     "solution": false
    }
   },
   "source": [
    "**HW5.** *Topological Sort:* Create a function that takes in a `SearchDFS` object to perform a topological sort:\n",
    "- `topological_sort(g)`: which takes in a `SearchDFS` object and returns a list of `VertexSearch` objects sorted based on their `f` property. This method should call the `search()` method of the `SearchDFS` to first calculate the `f` property of the vertices. Note that you need to copy the `SearchDFS` object of your input argument so as not to mutate the object."
   ]
  },
  {
   "cell_type": "code",
   "execution_count": 181,
   "metadata": {
    "colab": [],
    "colab_type": "code",
    "collapsed": true,
    "id": "CoCNeXCrb3Sx"
   },
   "outputs": [],
   "source": [
    "import sys\n",
    "import copy\n",
    "\n",
    "def topological_sort(g):\n",
    "    g.search()\n",
    "    \n",
    "    vertices = g.graph.vertices\n",
    "    \n",
    "    sort_list = []\n",
    "    \n",
    "    for i in vertices.values():\n",
    "        sort_list.append(i)\n",
    "        \n",
    "    sort_list.sort(key = lambda vertex:vertex.f, reverse=True)\n",
    "    return sort_list"
   ]
  },
  {
   "cell_type": "code",
   "execution_count": 182,
   "metadata": {
    "colab": [],
    "colab_type": "code",
    "deletable": false,
    "editable": false,
    "id": "-1hSwLKTdGPq",
    "nbgrader": {
     "grade": true,
     "grade_id": "hw51",
     "locked": true,
     "points": "1",
     "solution": false
    }
   },
   "outputs": [],
   "source": [
    "import copy\n",
    "g = GraphSearch()\n",
    "g.add_vertex(\"3/4 cup milk\")\n",
    "g.add_vertex(\"1 egg\")\n",
    "g.add_vertex(\"1 tbl oil\")\n",
    "g.add_vertex(\"1 cup mix\")\n",
    "g.add_vertex(\"heat syrup\")\n",
    "g.add_vertex(\"heat griddle\")\n",
    "g.add_vertex(\"pour 1/4 cup\")\n",
    "g.add_vertex(\"turn when bubbly\")\n",
    "g.add_vertex(\"eat\")\n",
    "g.add_edge(\"3/4 cup milk\", \"1 cup mix\")\n",
    "g.add_edge(\"1 egg\", \"1 cup mix\")\n",
    "g.add_edge(\"1 tbl oil\", \"1 cup mix\")\n",
    "g.add_edge(\"1 cup mix\", \"heat syrup\")\n",
    "g.add_edge(\"1 cup mix\", \"pour 1/4 cup\")\n",
    "g.add_edge(\"heat griddle\", \"pour 1/4 cup\")\n",
    "g.add_edge(\"pour 1/4 cup\", \"turn when bubbly\")\n",
    "g.add_edge(\"turn when bubbly\", \"eat\")\n",
    "g.add_edge(\"heat syrup\", \"eat\")\n",
    "gs = SearchDFS(g)  \n",
    "\n",
    "path = topological_sort(gs)\n",
    "ans = [v.f for v in copy.copy(path)]\n",
    "assert ans == [18, 16, 14, 12, 11, 10, 9, 6, 5]\n",
    "ans = [v.id for v in copy.copy(path)]\n",
    "assert ans == ['heat griddle', '1 tbl oil', '1 egg', '3/4 cup milk', '1 cup mix', 'pour 1/4 cup', 'turn when bubbly', 'heat syrup', 'eat']"
   ]
  },
  {
   "cell_type": "code",
   "execution_count": 23,
   "metadata": {
    "collapsed": true,
    "deletable": false,
    "editable": false,
    "nbgrader": {
     "grade": true,
     "grade_id": "hw52",
     "locked": true,
     "points": "1",
     "solution": false
    }
   },
   "outputs": [],
   "source": [
    "###\n",
    "### AUTOGRADER TEST - DO NOT REMOVE\n",
    "###\n"
   ]
  }
 ],
 "metadata": {
  "kernelspec": {
   "display_name": "Python 3 (ipykernel)",
   "language": "python",
   "name": "python3"
  },
  "language_info": {
   "codemirror_mode": {
    "name": "ipython",
    "version": 3
   },
   "file_extension": ".py",
   "mimetype": "text/x-python",
   "name": "python",
   "nbconvert_exporter": "python",
   "pygments_lexer": "ipython3",
   "version": "3.9.9"
  }
 },
 "nbformat": 4,
 "nbformat_minor": 4
}
