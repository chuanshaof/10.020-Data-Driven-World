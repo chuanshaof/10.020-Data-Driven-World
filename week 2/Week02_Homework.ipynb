{
 "cells": [
  {
   "cell_type": "markdown",
   "metadata": {
    "colab_type": "text",
    "deletable": false,
    "editable": false,
    "id": "w2y1-ePwMvu0",
    "nbgrader": {
     "grade": false,
     "locked": true,
     "solution": false
    }
   },
   "source": [
    "# Week 2 Problem Set\n",
    "\n",
    "## Homeworks"
   ]
  },
  {
   "cell_type": "markdown",
   "metadata": {
    "colab_type": "text",
    "deletable": false,
    "editable": false,
    "id": "Ft1Zw5gpMyMq",
    "nbgrader": {
     "grade": false,
     "locked": true,
     "solution": false
    }
   },
   "source": [
    "**HW1.** *Min-Heap:* Write the following function to implement *min-heap*. A *min-heap* is a binary heap that satisfies the *min-heap property*. This property can be described as:\n",
    "\n",
    "    For all nodes except the root:\n",
    "    \n",
    "    A[left(i)] >= A[i]\n",
    "    A[right(i)] >= A[i]\n",
    "\n",
    "- `min_child(heap, index)`: which returns the index of the node's smallest child. The node you are referring has index of value `index`\n",
    "- `min_heapify(array, index, size)`: which moves the node at `index` down the tree so as to satisfy the *min-heap property*. The argument `index` is the index of the node you want to start moving down in the array. The argument `size` is the size of the heap. This size may be the same or less than the number of elements in the array. Hint: You may need the `min_child()` function.\n",
    "- `build_min_heap(array)`: which build a *min-heap* from an arbitrary array of integers. This function should make use of `min_heapify(array, index)`. "
   ]
  },
  {
   "cell_type": "code",
   "execution_count": 28,
   "metadata": {
    "collapsed": true
   },
   "outputs": [],
   "source": [
    "# Copy over the implementations of left_of & right_of from the Cohort qns\n",
    "def left_of(index):\n",
    "    return ((index * 2) + 1)\n",
    "    pass\n",
    "\n",
    "def right_of(index):\n",
    "    return ((index + 1) * 2)\n",
    "    pass"
   ]
  },
  {
   "cell_type": "code",
   "execution_count": 29,
   "metadata": {
    "colab": [],
    "colab_type": "code",
    "collapsed": true,
    "id": "Hqig98U9NS3g"
   },
   "outputs": [],
   "source": [
    "def left_of(index):\n",
    "    return ((index * 2) + 1)\n",
    "    pass\n",
    "\n",
    "def right_of(index):\n",
    "    return ((index + 1) * 2)\n",
    "    pass\n",
    "\n",
    "def min_child(heap, index):\n",
    "    \n",
    "    left_child = left_of(index)\n",
    "    right_child = right_of(index)\n",
    "    heap_size = len(heap)\n",
    "    \n",
    "    if left_child >= heap_size:\n",
    "        return \"Index does not have a child\"\n",
    "    elif right_child >= heap_size:\n",
    "        return left_child\n",
    "    \n",
    "    if heap[left_child] < heap[right_child]:\n",
    "        return left_child\n",
    "    else:\n",
    "        return right_child"
   ]
  },
  {
   "cell_type": "code",
   "execution_count": 30,
   "metadata": {
    "collapsed": true,
    "deletable": false,
    "editable": false,
    "nbgrader": {
     "grade": true,
     "grade_id": "hw11",
     "locked": true,
     "points": "1",
     "solution": false
    }
   },
   "outputs": [],
   "source": [
    "minheap = [1, 2, 4, 3, 9, 7, 8, 10, 14, 16]\n",
    "assert min_child(minheap, 0) == 1\n",
    "assert min_child(minheap, 2) == 5\n",
    "assert min_child(minheap, 3) == 7\n",
    "assert min_child(minheap, 1) == 3"
   ]
  },
  {
   "cell_type": "code",
   "execution_count": 31,
   "metadata": {
    "colab": [],
    "colab_type": "code",
    "collapsed": true,
    "id": "JWasCCnBOLUA"
   },
   "outputs": [],
   "source": [
    "def left_of(index):\n",
    "    return ((index * 2) + 1)\n",
    "    pass\n",
    "\n",
    "def right_of(index):\n",
    "    return ((index + 1) * 2)\n",
    "    pass\n",
    "\n",
    "def min_child(heap, index):\n",
    "    \n",
    "    left_child = left_of(index)\n",
    "    right_child = right_of(index)\n",
    "    heap_size = len(heap)\n",
    "    \n",
    "    if left_child >= heap_size:\n",
    "        return \"Index does not have a child\"\n",
    "    elif right_child >= heap_size:\n",
    "        return left_child\n",
    "    \n",
    "    if heap[left_child] < heap[right_child]:\n",
    "        return left_child\n",
    "    else:\n",
    "        return right_child\n",
    "    \n",
    "    \n",
    "def min_heapify(array, index, size):\n",
    "    current_i = index\n",
    "    swapped = True\n",
    "    while swapped == True and left_of(current_i) < size:\n",
    "        swapped = False\n",
    "        min_child_i = min_child(array[0: size], current_i)\n",
    "        if array[min_child_i] < array[current_i]:\n",
    "            array[min_child_i], array[current_i] = array[current_i], array[min_child_i]\n",
    "            swapped = True\n",
    "        current_i = min_child_i"
   ]
  },
  {
   "cell_type": "code",
   "execution_count": 32,
   "metadata": {
    "collapsed": true,
    "deletable": false,
    "editable": false,
    "nbgrader": {
     "grade": true,
     "grade_id": "hw12",
     "locked": true,
     "points": "1",
     "solution": false
    }
   },
   "outputs": [],
   "source": [
    "array = [1, 3, 4, 2, 9, 7, 8, 10, 14, 16]\n",
    "min_heapify(array, 1, len(array))\n",
    "assert array == [1, 2, 4, 3, 9, 7, 8, 10, 14, 16]"
   ]
  },
  {
   "cell_type": "code",
   "execution_count": 33,
   "metadata": {
    "collapsed": true,
    "deletable": false,
    "editable": false,
    "nbgrader": {
     "grade": true,
     "grade_id": "hw13",
     "locked": true,
     "points": "1",
     "solution": false
    }
   },
   "outputs": [],
   "source": [
    "###\n",
    "### AUTOGRADER TEST - DO NOT REMOVE\n",
    "###\n"
   ]
  },
  {
   "cell_type": "code",
   "execution_count": 34,
   "metadata": {
    "colab": {
     "base_uri": "https://localhost:8080/",
     "height": 51
    },
    "colab_type": "code",
    "collapsed": true,
    "executionInfo": {
     "elapsed": 35732,
     "status": "ok",
     "timestamp": 1572852549354,
     "user": {
      "displayName": "Oka Kurniawan",
      "photoUrl": "https://lh3.googleusercontent.com/a-/AAuE7mAnRP7A15yGfrraUO-0BiNVbNmYjI2f9jaZikjr=s64",
      "userId": "05233922875329103764"
     },
     "user_tz": -480
    },
    "id": "qVhvO4lzO82L",
    "outputId": "08ed2169-2e53-4aa4-e6d3-49a6448c4299"
   },
   "outputs": [],
   "source": [
    "def left_of(index):\n",
    "    return ((index * 2) + 1)\n",
    "    pass\n",
    "\n",
    "def right_of(index):\n",
    "    return ((index + 1) * 2)\n",
    "    pass\n",
    "\n",
    "def min_child(heap, index):\n",
    "    \n",
    "    left_child = left_of(index)\n",
    "    right_child = right_of(index)\n",
    "    heap_size = len(heap)\n",
    "    \n",
    "    if left_child >= heap_size:\n",
    "        return \"Index does not have a child\"\n",
    "    elif right_child >= heap_size:\n",
    "        return left_child\n",
    "    \n",
    "    if heap[left_child] < heap[right_child]:\n",
    "        return left_child\n",
    "    else:\n",
    "        return right_child\n",
    "    \n",
    "    \n",
    "def min_heapify(array, index, size):\n",
    "    current_i = index\n",
    "    swapped = True\n",
    "    while swapped == True and left_of(current_i) < size:\n",
    "        swapped = False\n",
    "        min_child_i = min_child(array[0: size], current_i)\n",
    "        if array[min_child_i] < array[current_i]:\n",
    "            array[min_child_i], array[current_i] = array[current_i], array[min_child_i]\n",
    "            swapped = True\n",
    "        current_i = min_child_i\n",
    "\n",
    "def build_min_heap(array):\n",
    "    n = len(array)\n",
    "    starting_index = int(n / 2) - 1\n",
    "    for i in range(starting_index, -1, -1):\n",
    "        min_heapify(array, i, len(array))"
   ]
  },
  {
   "cell_type": "code",
   "execution_count": 35,
   "metadata": {
    "deletable": false,
    "editable": false,
    "nbgrader": {
     "grade": true,
     "grade_id": "hw14",
     "locked": true,
     "points": "1",
     "solution": false
    }
   },
   "outputs": [
    {
     "name": "stdout",
     "output_type": "stream",
     "text": [
      "[16, 14, 10, 8, 7, 9, 3, 2, 4, 1]\n",
      "[1, 2, 3, 4, 7, 9, 10, 8, 16, 14]\n"
     ]
    }
   ],
   "source": [
    "array = [16, 14, 10, 8, 7, 9, 3, 2, 4, 1]\n",
    "print(array)\n",
    "build_min_heap(array)\n",
    "print(array)\n",
    "assert array == [1, 2, 3, 4, 7, 9, 10, 8, 16, 14]"
   ]
  },
  {
   "cell_type": "markdown",
   "metadata": {
    "colab_type": "text",
    "deletable": false,
    "editable": false,
    "id": "rTwYqPXjPhhD",
    "nbgrader": {
     "grade": false,
     "locked": true,
     "solution": false
    }
   },
   "source": [
    "**HW2.** *Heapsort:* Implement heapsort that makes use of *min-heap* instead of *max-heap*. This function returns a *new* array. The strategy is similar to max-heap, but we will use a new array to store the sorted output. Take note of the hints below:\n",
    "- The top of the min-heap is always the smallest. You can take this element and put it into the output array.\n",
    "- To find the next minimum, take the last element of the heap and put it into the first element of the array. Now, the tree is no longer a min-heap. Use `min_heapify()` to restore the min-heap property. This will result in a mean-heap where the first element of the array is the next minimum. You can then take out the top of the min-heap and put it into the output array.\n",
    "- Reduce the heap size as you go.\n",
    "- Return the new output array."
   ]
  },
  {
   "cell_type": "code",
   "execution_count": 36,
   "metadata": {
    "collapsed": true
   },
   "outputs": [],
   "source": [
    "import random\n",
    "\n",
    "def gen_random_int(number, seed):\n",
    "    result = [i for i in range(number)]\n",
    "    random.shuffle(result, random.seed(seed))\n",
    "    return result"
   ]
  },
  {
   "cell_type": "code",
   "execution_count": 37,
   "metadata": {
    "colab": [],
    "colab_type": "code",
    "collapsed": true,
    "id": "ORDGioxUPoY5"
   },
   "outputs": [],
   "source": [
    "def left_of(index):\n",
    "    return ((index * 2) + 1)\n",
    "    pass\n",
    "\n",
    "def right_of(index):\n",
    "    return ((index + 1) * 2)\n",
    "    pass\n",
    "\n",
    "def min_child(heap, index):\n",
    "    \n",
    "    left_child = left_of(index)\n",
    "    right_child = right_of(index)\n",
    "    heap_size = len(heap)\n",
    "    \n",
    "    if left_child >= heap_size:\n",
    "        return \"Index does not have a child\"\n",
    "    elif right_child >= heap_size:\n",
    "        return left_child\n",
    "    \n",
    "    if heap[left_child] < heap[right_child]:\n",
    "        return left_child\n",
    "    else:\n",
    "        return right_child\n",
    "    \n",
    "    \n",
    "def min_heapify(array, index, size):\n",
    "    current_i = index\n",
    "    swapped = True\n",
    "    while swapped == True and left_of(current_i) < size:\n",
    "        swapped = False\n",
    "        min_child_i = min_child(array[0: size], current_i)\n",
    "        if array[min_child_i] < array[current_i]:\n",
    "            array[min_child_i], array[current_i] = array[current_i], array[min_child_i]\n",
    "            swapped = True\n",
    "        current_i = min_child_i\n",
    "\n",
    "def build_min_heap(array):\n",
    "    n = len(array)\n",
    "    starting_index = int(n / 2) - 1\n",
    "    for i in range(starting_index, -1, -1):\n",
    "        min_heapify(array, i, len(array))\n",
    "\n",
    "def heapsort(array):\n",
    "    result = []\n",
    "    build_min_heap(array)\n",
    "    heap_end_pos = len(array) - 1\n",
    "    while heap_end_pos >= 0:\n",
    "        result.append(array[0])\n",
    "        array[0], array[heap_end_pos] = array[heap_end_pos], array[0]\n",
    "        heap_end_pos = heap_end_pos - 1\n",
    "        min_heapify(array, 0, heap_end_pos + 1)\n",
    "    return result"
   ]
  },
  {
   "cell_type": "code",
   "execution_count": 38,
   "metadata": {
    "deletable": false,
    "editable": false,
    "nbgrader": {
     "grade": true,
     "grade_id": "hw21",
     "locked": true,
     "points": "1",
     "solution": false
    }
   },
   "outputs": [],
   "source": [
    "array = gen_random_int(10, 100)\n",
    "result = heapsort(array)\n",
    "assert result == [0, 1, 2, 3, 4, 5, 6, 7, 8, 9]"
   ]
  },
  {
   "cell_type": "markdown",
   "metadata": {
    "colab_type": "text",
    "deletable": false,
    "editable": false,
    "id": "lUQCfMxaWese",
    "nbgrader": {
     "grade": false,
     "locked": true,
     "solution": false
    }
   },
   "source": [
    "**HW3.** Compute the computational time for Heap Sort algorithm implemented in Python for various number of inputs. Make use of `gen_random_int(n)` to generate the input array. Use the template below to generate computation time for different number of inputs: 10, 100, 1000, etc."
   ]
  },
  {
   "cell_type": "code",
   "execution_count": 39,
   "metadata": {
    "colab": {
     "base_uri": "https://localhost:8080/",
     "height": 34
    },
    "colab_type": "code",
    "executionInfo": {
     "elapsed": 1876220,
     "status": "ok",
     "timestamp": 1572855614477,
     "user": {
      "displayName": "Oka Kurniawan",
      "photoUrl": "https://lh3.googleusercontent.com/a-/AAuE7mAnRP7A15yGfrraUO-0BiNVbNmYjI2f9jaZikjr=s64",
      "userId": "05233922875329103764"
     },
     "user_tz": -480
    },
    "id": "wD-pBWwCWl-I",
    "outputId": "f50a8a1c-fc2b-427f-b99b-fc8b2f89fa6e"
   },
   "outputs": [
    {
     "name": "stdout",
     "output_type": "stream",
     "text": [
      "[2.5033950805664062e-05, 0.00035452842712402344, 0.005818843841552734, 0.07979512214660645, 1.053027868270874]\n"
     ]
    },
    {
     "data": {
      "image/png": "[encoded data removed]",
      "text/plain": [
       "<Figure size 432x288 with 1 Axes>"
      ]
     },
     "metadata": {
      "needs_background": "light"
     },
     "output_type": "display_data"
    }
   ],
   "source": [
    "import time\n",
    "import random\n",
    "\n",
    "def left_of(index):\n",
    "    return ((index * 2) + 1)\n",
    "    pass\n",
    "\n",
    "def right_of(index):\n",
    "    return ((index + 1) * 2)\n",
    "    pass\n",
    "\n",
    "# Min child is passed with a new arg to take in size so that array is not needed to be spliced\n",
    "\n",
    "def min_child(heap, index, size):\n",
    "    \n",
    "    left_child = left_of(index)\n",
    "    right_child = right_of(index)\n",
    "    heap_size = size\n",
    "    \n",
    "    if left_child >= heap_size:\n",
    "        return \"Index does not have a child\"\n",
    "    elif right_child >= heap_size:\n",
    "        return left_child\n",
    "    \n",
    "    if heap[left_child] < heap[right_child]:\n",
    "        return left_child\n",
    "    else:\n",
    "        return right_child\n",
    "    \n",
    "    \n",
    "def min_heapify(array, index, size):\n",
    "    swapped = True\n",
    "    while left_of(index) < size and swapped:\n",
    "        swapped = False\n",
    "        min_child_i = min_child(array, index, size)\n",
    "        if array[min_child_i] < array[index]:\n",
    "            array[min_child_i], array[index] = array[index], array[min_child_i]\n",
    "            swapped = True\n",
    "        index = min_child_i\n",
    "\n",
    "def build_min_heap(array):\n",
    "    n = len(array)\n",
    "    starting_index = int(n / 2) - 1\n",
    "    for i in range(starting_index, -1, -1):\n",
    "        min_heapify(array, i, len(array))\n",
    "\n",
    "def heapsort(array):\n",
    "    result = []\n",
    "    build_min_heap(array)\n",
    "    heap_end_pos = len(array) - 1\n",
    "    while heap_end_pos >= 0:\n",
    "        result.append(array[0])\n",
    "        array[0], array[heap_end_pos] = array[heap_end_pos], array[0]\n",
    "        heap_end_pos = heap_end_pos - 1\n",
    "        min_heapify(array, 0, heap_end_pos + 1)\n",
    "    return result\n",
    "\n",
    "def run_function(f, x):\n",
    "    start = time.time()\n",
    "    f(x)\n",
    "    end = time.time()\n",
    "    return end-start\n",
    "\n",
    "def gen_random_int(number, seed):\n",
    "    result = [i for i in range(number)]\n",
    "    random.shuffle(result, random.seed(seed))\n",
    "    return result\n",
    "\n",
    "time_heapsort = []\n",
    "# set the maximum power for 10^power number of inputs\n",
    "maxpower = 5\n",
    "\n",
    "for n in range(1, maxpower + 1):\n",
    "    # create array for 10^1, 10^2, etc \n",
    "    # use seed 100\n",
    "    array = gen_random_int(10**n, 100)\n",
    "    \n",
    "    # call run_function with heapsort and array as arguments\n",
    "    # result = run_function(None, None)\n",
    "    \n",
    "    result = run_function(heapsort, array)\n",
    "\n",
    "    time_heapsort.append(result)\n",
    "\n",
    "print(time_heapsort)\n",
    "\n",
    "import matplotlib.pyplot as plt\n",
    "import numpy as np\n",
    "\n",
    "maxpower = 5\n",
    "# create an iterable from 1 to maxpowers\n",
    "powers = range(1, maxpower + 1)\n",
    "# variable n stores the number of items to sort\n",
    "n = []\n",
    "\n",
    "# Create a list of n for our x axis\n",
    "for exp in powers:\n",
    "    n.append(10**exp)\n",
    "\n",
    "# convert to Numpy array\n",
    "n = np.array(n)\n",
    "\n",
    "# calculate n*log(n) for x axis \n",
    "x = n * np.log2(n)\n",
    "plt.plot(x, time_heapsort, \"-o\")\n",
    "plt.xlabel(\"number of input\")\n",
    "plt.ylabel(\"computation time (s)\")\n",
    "plt.show()"
   ]
  },
  {
   "cell_type": "markdown",
   "metadata": {
    "colab_type": "text",
    "deletable": false,
    "editable": false,
    "id": "uhki2vZsXlC0",
    "nbgrader": {
     "grade": false,
     "locked": true,
     "solution": false
    }
   },
   "source": [
    "**HW4.** Plot the output of HW3 by first calculating a new x-axis computed as $n\\log_2(n)$. Use the template below.\n",
    "\n",
    "Reference:\n",
    "- [Numpy Log2 function](https://docs.scipy.org/doc/numpy/reference/generated/numpy.log2.html)"
   ]
  },
  {
   "cell_type": "raw",
   "metadata": {
    "colab": {
     "base_uri": "https://localhost:8080/",
     "height": 279
    },
    "colab_type": "code",
    "deletable": false,
    "editable": false,
    "executionInfo": {
     "elapsed": 1073,
     "status": "ok",
     "timestamp": 1572853721594,
     "user": {
      "displayName": "Oka Kurniawan",
      "photoUrl": "https://lh3.googleusercontent.com/a-/AAuE7mAnRP7A15yGfrraUO-0BiNVbNmYjI2f9jaZikjr=s64",
      "userId": "05233922875329103764"
     },
     "user_tz": -480
    },
    "id": "kXevgXjHXnmF",
    "nbgrader": {
     "grade": false,
     "locked": true,
     "solution": false
    },
    "outputId": "0b54258d-4124-4b4c-d836-6c615c5fd6ab"
   },
   "source": [
    "import matplotlib.pyplot as plt\n",
    "import numpy as np\n",
    "\n",
    "maxpower = 5\n",
    "# create an iterable from 1 to maxpowers\n",
    "powers = range(1, maxpower + 1)\n",
    "# variable n stores the number of items to sort\n",
    "n = []\n",
    "\n",
    "# Create a list of n for our x axis\n",
    "for exp in powers:\n",
    "    n.append(10**exp)\n",
    "\n",
    "# convert to Numpy array\n",
    "n = np.array(n)\n",
    "\n",
    "# calculate n*log(n) for x axis \n",
    "x = n * np.log2(n)\n",
    "plt.plot(x, time_heapsort, \"-o\")\n",
    "plt.xlabel(\"number of input\")\n",
    "plt.ylabel(\"computation time (s)\")\n",
    "plt.show()"
   ]
  }
 ],
 "metadata": {
  "kernelspec": {
   "display_name": "Python 3 (ipykernel)",
   "language": "python",
   "name": "python3"
  },
  "language_info": {
   "codemirror_mode": {
    "name": "ipython",
    "version": 3
   },
   "file_extension": ".py",
   "mimetype": "text/x-python",
   "name": "python",
   "nbconvert_exporter": "python",
   "pygments_lexer": "ipython3",
   "version": "3.9.7"
  }
 },
 "nbformat": 4,
 "nbformat_minor": 4
}
